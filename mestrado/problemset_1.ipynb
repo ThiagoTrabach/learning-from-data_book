{
 "cells": [
  {
   "cell_type": "markdown",
   "metadata": {},
   "source": [
    "## Lista 1 - Mestrado EMAp 2017\n",
    "### Thiago Trabach da Cunha\n",
    "\n",
    "\n",
    "    "
   ]
  },
  {
   "cell_type": "markdown",
   "metadata": {},
   "source": [
    "** Referência Bibliográfica: ** \n",
    " - Learning from Data\n",
    " - Elements of Statistical Learning\n",
    "\n",
    "\n",
    "** Colaboração: **"
   ]
  },
  {
   "cell_type": "code",
   "execution_count": 311,
   "metadata": {
    "collapsed": true
   },
   "outputs": [],
   "source": [
    "import numpy as np\n",
    "from scipy import stats\n",
    "import random\n",
    "import math\n",
    "from tqdm import tqdm\n",
    "import matplotlib.pyplot as plt\n",
    "import seaborn as sns\n",
    "import pprint\n",
    "\n",
    "%matplotlib inline"
   ]
  },
  {
   "cell_type": "markdown",
   "metadata": {},
   "source": [
    "### <font color=firebrick> 1. Learning from Data, Problem 1.3</font>"
   ]
  },
  {
   "cell_type": "markdown",
   "metadata": {},
   "source": [
    "** <font color=firebrick> a) </font> **"
   ]
  },
  {
   "cell_type": "code",
   "execution_count": null,
   "metadata": {
    "collapsed": true
   },
   "outputs": [],
   "source": []
  },
  {
   "cell_type": "markdown",
   "metadata": {},
   "source": [
    "**<font color=firebrick> b) </font>**"
   ]
  },
  {
   "cell_type": "markdown",
   "metadata": {},
   "source": [
    "### <font color=firebrick>  2. Learning from Data, Problem 1.5 </font>"
   ]
  },
  {
   "cell_type": "code",
   "execution_count": 312,
   "metadata": {
    "collapsed": true
   },
   "outputs": [],
   "source": [
    "def perceptron(w, x, y):\n",
    "    \n",
    "    #randomly select one observation\n",
    "    k = random.choice(range(x.shape[1]))\n",
    "    \n",
    "    #verify if prediction is equal to the real value\n",
    "    s = w.T * x[0:x.shape[0],k]\n",
    "    \n",
    "    if  y[0,k] *  s <= 0:\n",
    "        w = w + x[0:x.shape[0],k]*y[0,k]\n",
    "        \n",
    "    return w"
   ]
  },
  {
   "cell_type": "code",
   "execution_count": 313,
   "metadata": {
    "collapsed": true
   },
   "outputs": [],
   "source": [
    "def perceptron_adaline(w, x, y, learning_rate):\n",
    "    \n",
    "    #randomly select one observation\n",
    "    k = random.choice(range(x.shape[1]))\n",
    "    \n",
    "    #verify if prediction is equal to the real value\n",
    "    s = w.T * x[0:x.shape[0],k]\n",
    "    \n",
    "    if y[0,k] * s <= 1:\n",
    "        w = w + float(learning_rate * ( y[0,k] - s ) )* x[0:x.shape[0],k] \n",
    "        \n",
    "    return w"
   ]
  },
  {
   "cell_type": "markdown",
   "metadata": {},
   "source": [
    "** <font color=firebrick> a) </font>**"
   ]
  },
  {
   "cell_type": "markdown",
   "metadata": {
    "collapsed": true
   },
   "source": [
    "Generating training set"
   ]
  },
  {
   "cell_type": "code",
   "execution_count": 314,
   "metadata": {
    "collapsed": true
   },
   "outputs": [],
   "source": [
    "#sample paramenters\n",
    "d = 2\n",
    "n = 100\n",
    "\n",
    "\n",
    "#generating fx\n",
    "fx = np.matrix('0;' + str(np.random.uniform(-1,1,)) + ';' + str(np.random.uniform(-1,1)))\n",
    "\n",
    "#generating sample\n",
    "x = np.random.uniform(-1,1, [d,n])\n",
    "x0 = np.ones((1,n))\n",
    "x = np.matrix(np.vstack((x0, x)))\n",
    "\n",
    "#generating the correct label\n",
    "y = np.matrix(np.sign(fx.T*x))"
   ]
  },
  {
   "cell_type": "markdown",
   "metadata": {},
   "source": [
    "Running Perceptron"
   ]
  },
  {
   "cell_type": "code",
   "execution_count": 315,
   "metadata": {},
   "outputs": [
    {
     "name": "stderr",
     "output_type": "stream",
     "text": [
      "100%|██████████| 1000/1000 [00:00<00:00, 15751.42it/s]\n"
     ]
    },
    {
     "data": {
      "text/plain": [
       "<function matplotlib.pyplot.show>"
      ]
     },
     "execution_count": 315,
     "metadata": {},
     "output_type": "execute_result"
    },
    {
     "data": {
      "image/png": "[encoded data removed]",
      "text/plain": [
       "<matplotlib.figure.Figure at 0x117620438>"
      ]
     },
     "metadata": {},
     "output_type": "display_data"
    }
   ],
   "source": [
    "#PLA parameters\n",
    "learning_rate = 100\n",
    "max_steps = 1000\n",
    "\n",
    "#finding gx\n",
    "w = np.matrix(np.zeros((d + 1,1)))\n",
    "\n",
    "for i in tqdm(range(max_steps)):\n",
    "    w = perceptron_adaline(w,x,y, learning_rate)\n",
    "    \n",
    "    if np.matrix.all(y == np.sign(w.T*x)):\n",
    "\n",
    "        break\n",
    "\n",
    "\n",
    "        \n",
    "###\n",
    "#Ploting\n",
    "###\n",
    "\n",
    "#create variables for plotting\n",
    "x_ar = np.array(x[1])\n",
    "y_ar = np.array(x[2])\n",
    "\n",
    "x_pos = x_ar[0][list(np.array(y[0] == 1)[0])]\n",
    "y_pos = y_ar[0][list(np.array(y[0] == 1)[0])]\n",
    "\n",
    "x_neg = x_ar[0][list(np.array(y[0] == -1)[0])]\n",
    "y_neg = y_ar[0][list(np.array(y[0] == -1)[0])]\n",
    "\n",
    "\n",
    "fx_x = np.arange(-5,5,0.01) * -float(fx[2]) #ortogonalizando fx para traçar a linha que separa as duas classificações\n",
    "fx_y = np.arange(-5,5,0.01) * float(fx[1]) #ortogonalizando fx para traçar a linha que separa as duas classificações\n",
    "\n",
    "gx_x = np.arange(-5,5,0.01) * -float(w[2]) #ortogonalizando gx para traçar a linha que separa as duas classificações\n",
    "gx_y = np.arange(-5,5,0.01) * float(w[1]) #ortogonalizando gx para traçar a linha que separa as duas classificações\n",
    "\n",
    "\n",
    "#define plot type and style\n",
    "plt.scatter(x_pos, y_pos, marker='+')\n",
    "plt.scatter(x_neg, y_neg, marker='o')\n",
    "plt.plot(gx_x, gx_y, color = 'r')\n",
    "plt.plot(fx_x, fx_y, color = 'g' )\n",
    "\n",
    "\n",
    "#set axis range\n",
    "plt.xlim(-1,1)\n",
    "plt.ylim(-1,1)\n",
    "\n",
    "\n",
    "#plot\n",
    "plt.show"
   ]
  },
  {
   "cell_type": "markdown",
   "metadata": {},
   "source": [
    "Calculating test error"
   ]
  },
  {
   "cell_type": "code",
   "execution_count": 316,
   "metadata": {},
   "outputs": [
    {
     "name": "stdout",
     "output_type": "stream",
     "text": [
      "Test set error =      74.79%\n"
     ]
    }
   ],
   "source": [
    "#sample paramenters\n",
    "d = 2\n",
    "n = 10**4\n",
    "\n",
    "#generating sample\n",
    "x_test = np.random.uniform(-1,1, [d,n])\n",
    "x0_test = np.ones((1,n))\n",
    "x_test = np.matrix(np.vstack((x0_test, x_test)))\n",
    "\n",
    "#generating the correct label\n",
    "y_test = np.matrix(np.sign(fx.T*x_test))\n",
    "y_hat_test = np.matrix(np.sign(w.T*x_test))\n",
    "\n",
    "tset_error_100 = 1 - np.sum(y_test == y_hat_test)/n\n",
    "\n",
    "print('Test set error = {0:10.2f}%'.format(tset_error_100*100,2))\n",
    "\n"
   ]
  },
  {
   "cell_type": "markdown",
   "metadata": {},
   "source": [
    "** <font color=firebrick> b) </font>**"
   ]
  },
  {
   "cell_type": "markdown",
   "metadata": {},
   "source": [
    "Running Percepetron"
   ]
  },
  {
   "cell_type": "code",
   "execution_count": 317,
   "metadata": {},
   "outputs": [
    {
     "name": "stderr",
     "output_type": "stream",
     "text": [
      "  0%|          | 0/1000 [00:00<?, ?it/s]\n"
     ]
    },
    {
     "data": {
      "text/plain": [
       "<function matplotlib.pyplot.show>"
      ]
     },
     "execution_count": 317,
     "metadata": {},
     "output_type": "execute_result"
    },
    {
     "data": {
      "image/png": "[encoded data removed]",
      "text/plain": [
       "<matplotlib.figure.Figure at 0x117e9d5c0>"
      ]
     },
     "metadata": {},
     "output_type": "display_data"
    }
   ],
   "source": [
    "#PLA parameters\n",
    "learning_rate = 1\n",
    "max_steps = 1000\n",
    "\n",
    "#finding gx\n",
    "w = np.matrix(np.zeros((d + 1,1)))\n",
    "\n",
    "for i in tqdm(range(max_steps)):\n",
    "    w = perceptron_adaline(w,x,y, learning_rate)\n",
    "    \n",
    "    if np.matrix.all(y == np.sign(w.T*x)):\n",
    "\n",
    "        break\n",
    "\n",
    "\n",
    "        \n",
    "###\n",
    "#Ploting\n",
    "###\n",
    "\n",
    "#create variables for plotting\n",
    "x_ar = np.array(x[1])\n",
    "y_ar = np.array(x[2])\n",
    "\n",
    "x_pos = x_ar[0][list(np.array(y[0] == 1)[0])]\n",
    "y_pos = y_ar[0][list(np.array(y[0] == 1)[0])]\n",
    "\n",
    "x_neg = x_ar[0][list(np.array(y[0] == -1)[0])]\n",
    "y_neg = y_ar[0][list(np.array(y[0] == -1)[0])]\n",
    "\n",
    "\n",
    "fx_x = np.arange(-5,5,0.01) * -float(fx[2]) #ortogonalizando fx para traçar a linha que separa as duas classificações\n",
    "fx_y = np.arange(-5,5,0.01) * float(fx[1]) #ortogonalizando fx para traçar a linha que separa as duas classificações\n",
    "\n",
    "gx_x = np.arange(-5,5,0.01) * -float(w[2]) #ortogonalizando gx para traçar a linha que separa as duas classificações\n",
    "gx_y = np.arange(-5,5,0.01) * float(w[1]) #ortogonalizando gx para traçar a linha que separa as duas classificações\n",
    "\n",
    "\n",
    "#define plot type and style\n",
    "plt.scatter(x_pos, y_pos, marker='+')\n",
    "plt.scatter(x_neg, y_neg, marker='o')\n",
    "plt.plot(gx_x, gx_y, color = 'r')\n",
    "plt.plot(fx_x, fx_y, color = 'g' )\n",
    "\n",
    "\n",
    "#set axis range\n",
    "plt.xlim(-1,1)\n",
    "plt.ylim(-1,1)\n",
    "\n",
    "\n",
    "#plot\n",
    "plt.show"
   ]
  },
  {
   "cell_type": "markdown",
   "metadata": {},
   "source": [
    "Calculating test error"
   ]
  },
  {
   "cell_type": "code",
   "execution_count": 318,
   "metadata": {},
   "outputs": [
    {
     "name": "stdout",
     "output_type": "stream",
     "text": [
      "Test set error =       0.37%\n"
     ]
    }
   ],
   "source": [
    "#sample paramenters\n",
    "d = 2\n",
    "n = 10**4\n",
    "\n",
    "#generating sample\n",
    "x_test = np.random.uniform(-1,1, [d,n])\n",
    "x0_test = np.ones((1,n))\n",
    "x_test = np.matrix(np.vstack((x0_test, x_test)))\n",
    "\n",
    "#generating the correct label\n",
    "y_test = np.matrix(np.sign(fx.T*x_test))\n",
    "y_hat_test = np.matrix(np.sign(w.T*x_test))\n",
    "\n",
    "tset_error_1 = 1 - np.sum(y_test == y_hat_test)/n\n",
    "\n",
    "print('Test set error = {0:10.2f}%'.format(tset_error_1*100,2))\n",
    "\n"
   ]
  },
  {
   "cell_type": "markdown",
   "metadata": {},
   "source": [
    "** <font color=firebrick> c) </font>**"
   ]
  },
  {
   "cell_type": "markdown",
   "metadata": {},
   "source": [
    "Running Percepetron"
   ]
  },
  {
   "cell_type": "code",
   "execution_count": 319,
   "metadata": {},
   "outputs": [
    {
     "name": "stderr",
     "output_type": "stream",
     "text": [
      "100%|██████████| 1000/1000 [00:00<00:00, 14127.09it/s]\n"
     ]
    },
    {
     "data": {
      "text/plain": [
       "<function matplotlib.pyplot.show>"
      ]
     },
     "execution_count": 319,
     "metadata": {},
     "output_type": "execute_result"
    },
    {
     "data": {
      "image/png": "[encoded data removed]",
      "text/plain": [
       "<matplotlib.figure.Figure at 0x117632f60>"
      ]
     },
     "metadata": {},
     "output_type": "display_data"
    }
   ],
   "source": [
    "#PLA parameters\n",
    "learning_rate = 0.01\n",
    "max_steps = 1000\n",
    "\n",
    "#finding gx\n",
    "w = np.matrix(np.zeros((d + 1,1)))\n",
    "\n",
    "for i in tqdm(range(max_steps)):\n",
    "    w = perceptron_adaline(w,x,y, learning_rate)\n",
    "    \n",
    "    if np.matrix.all(y == np.sign(w.T*x)):\n",
    "\n",
    "        break\n",
    "\n",
    "\n",
    "        \n",
    "###\n",
    "#Ploting\n",
    "###\n",
    "\n",
    "#create variables for plotting\n",
    "x_ar = np.array(x[1])\n",
    "y_ar = np.array(x[2])\n",
    "\n",
    "x_pos = x_ar[0][list(np.array(y[0] == 1)[0])]\n",
    "y_pos = y_ar[0][list(np.array(y[0] == 1)[0])]\n",
    "\n",
    "x_neg = x_ar[0][list(np.array(y[0] == -1)[0])]\n",
    "y_neg = y_ar[0][list(np.array(y[0] == -1)[0])]\n",
    "\n",
    "\n",
    "fx_x = np.arange(-5,5,0.01) * -float(fx[2]) #ortogonalizando fx para traçar a linha que separa as duas classificações\n",
    "fx_y = np.arange(-5,5,0.01) * float(fx[1]) #ortogonalizando fx para traçar a linha que separa as duas classificações\n",
    "\n",
    "gx_x = np.arange(-5,5,0.01) * -float(w[2]) #ortogonalizando gx para traçar a linha que separa as duas classificações\n",
    "gx_y = np.arange(-5,5,0.01) * float(w[1]) #ortogonalizando gx para traçar a linha que separa as duas classificações\n",
    "\n",
    "\n",
    "#define plot type and style\n",
    "plt.scatter(x_pos, y_pos, marker='+')\n",
    "plt.scatter(x_neg, y_neg, marker='o')\n",
    "plt.plot(gx_x, gx_y, color = 'r')\n",
    "plt.plot(fx_x, fx_y, color = 'g' )\n",
    "\n",
    "\n",
    "#set axis range\n",
    "plt.xlim(-1,1)\n",
    "plt.ylim(-1,1)\n",
    "\n",
    "\n",
    "#plot\n",
    "plt.show"
   ]
  },
  {
   "cell_type": "markdown",
   "metadata": {},
   "source": [
    "Calculating test error"
   ]
  },
  {
   "cell_type": "code",
   "execution_count": 320,
   "metadata": {},
   "outputs": [
    {
     "name": "stdout",
     "output_type": "stream",
     "text": [
      "Test set error =       5.23%\n"
     ]
    }
   ],
   "source": [
    "#sample paramenters\n",
    "d = 2\n",
    "n = 10**4\n",
    "\n",
    "#generating sample\n",
    "x_test = np.random.uniform(-1,1, [d,n])\n",
    "x0_test = np.ones((1,n))\n",
    "x_test = np.matrix(np.vstack((x0_test, x_test)))\n",
    "\n",
    "#generating the correct label\n",
    "y_test = np.matrix(np.sign(fx.T*x_test))\n",
    "y_hat_test = np.matrix(np.sign(w.T*x_test))\n",
    "\n",
    "\n",
    "tset_error_001 = 1 - np.sum(y_test == y_hat_test)/n\n",
    "\n",
    "print('Test set error = {0:10.2f}%'.format(tset_error_001*100,2))\n",
    "\n"
   ]
  },
  {
   "cell_type": "markdown",
   "metadata": {},
   "source": [
    "** <font color=firebrick>  d) </font>**"
   ]
  },
  {
   "cell_type": "markdown",
   "metadata": {},
   "source": [
    "Running Percepetron"
   ]
  },
  {
   "cell_type": "code",
   "execution_count": 321,
   "metadata": {},
   "outputs": [
    {
     "name": "stderr",
     "output_type": "stream",
     "text": [
      "100%|██████████| 1000/1000 [00:00<00:00, 12879.63it/s]\n"
     ]
    },
    {
     "data": {
      "text/plain": [
       "<function matplotlib.pyplot.show>"
      ]
     },
     "execution_count": 321,
     "metadata": {},
     "output_type": "execute_result"
    },
    {
     "data": {
      "image/png": "[encoded data removed]",
      "text/plain": [
       "<matplotlib.figure.Figure at 0x117de7a90>"
      ]
     },
     "metadata": {},
     "output_type": "display_data"
    }
   ],
   "source": [
    "#PLA parameters\n",
    "learning_rate = 0.0001\n",
    "max_steps = 1000\n",
    "\n",
    "#finding gx\n",
    "w = np.matrix(np.zeros((d + 1,1)))\n",
    "\n",
    "for i in tqdm(range(max_steps)):\n",
    "    w = perceptron_adaline(w,x,y, learning_rate)\n",
    "    \n",
    "    if np.matrix.all(y == np.sign(w.T*x)):\n",
    "\n",
    "        break\n",
    "\n",
    "\n",
    "        \n",
    "###\n",
    "#Ploting\n",
    "###\n",
    "\n",
    "#create variables for plotting\n",
    "x_ar = np.array(x[1])\n",
    "y_ar = np.array(x[2])\n",
    "\n",
    "x_pos = x_ar[0][list(np.array(y[0] == 1)[0])]\n",
    "y_pos = y_ar[0][list(np.array(y[0] == 1)[0])]\n",
    "\n",
    "x_neg = x_ar[0][list(np.array(y[0] == -1)[0])]\n",
    "y_neg = y_ar[0][list(np.array(y[0] == -1)[0])]\n",
    "\n",
    "\n",
    "fx_x = np.arange(-5,5,0.01) * -float(fx[2]) #ortogonalizando fx para traçar a linha que separa as duas classificações\n",
    "fx_y = np.arange(-5,5,0.01) * float(fx[1]) #ortogonalizando fx para traçar a linha que separa as duas classificações\n",
    "\n",
    "gx_x = np.arange(-20,20,0.01) * -float(w[2]) #ortogonalizando gx para traçar a linha que separa as duas classificações\n",
    "gx_y = np.arange(-20,20,0.01) * float(w[1]) #ortogonalizando gx para traçar a linha que separa as duas classificações\n",
    "\n",
    "\n",
    "#define plot type and style\n",
    "plt.scatter(x_pos, y_pos, marker='+')\n",
    "plt.scatter(x_neg, y_neg, marker='o')\n",
    "plt.plot(gx_x, gx_y, color = 'r')\n",
    "plt.plot(fx_x, fx_y, color = 'g' )\n",
    "\n",
    "\n",
    "#set axis range\n",
    "plt.xlim(-1,1)\n",
    "plt.ylim(-1,1)\n",
    "\n",
    "\n",
    "#plot\n",
    "plt.show"
   ]
  },
  {
   "cell_type": "markdown",
   "metadata": {},
   "source": [
    "Calculating test error"
   ]
  },
  {
   "cell_type": "code",
   "execution_count": 322,
   "metadata": {},
   "outputs": [
    {
     "name": "stdout",
     "output_type": "stream",
     "text": [
      "Test set error =      12.40%\n"
     ]
    }
   ],
   "source": [
    "#sample paramenters\n",
    "d = 2\n",
    "n = 10**4\n",
    "\n",
    "#generating sample\n",
    "x_test = np.random.uniform(-1,1, [d,n])\n",
    "x0_test = np.ones((1,n))\n",
    "x_test = np.matrix(np.vstack((x0_test, x_test)))\n",
    "\n",
    "#generating the correct label\n",
    "y_test = np.matrix(np.sign(fx.T*x_test))\n",
    "y_hat_test = np.matrix(np.sign(w.T*x_test))\n",
    "\n",
    "tset_error_000001 = 1 - np.sum(y_test == y_hat_test)/n\n",
    "\n",
    "print('Test set error = {0:10.2f}%'.format(tset_error_000001*100,2))\n",
    "\n"
   ]
  },
  {
   "cell_type": "markdown",
   "metadata": {},
   "source": [
    "**<font color=firebrick> e) </font>**"
   ]
  },
  {
   "cell_type": "code",
   "execution_count": 323,
   "metadata": {},
   "outputs": [
    {
     "name": "stdout",
     "output_type": "stream",
     "text": [
      "TEST SET ERRROR\n",
      "\n",
      "LR: 0.00001 =      12.40%\n",
      "LR: 0.01 =       5.23%\n",
      "LR: 1 =       0.37%\n",
      "LR: 100 =      74.79%\n"
     ]
    }
   ],
   "source": [
    "print('TEST SET ERRROR')\n",
    "print()\n",
    "print('LR: 0.00001 = {0:10.2f}%'.format(tset_error_000001*100,2))\n",
    "print('LR: 0.01 = {0:10.2f}%'.format(tset_error_001*100,2))\n",
    "print('LR: 1 = {0:10.2f}%'.format(tset_error_1*100,2))\n",
    "print('LR: 100 = {0:10.2f}%'.format(tset_error_100*100,2))"
   ]
  },
  {
   "cell_type": "markdown",
   "metadata": {},
   "source": [
    "Observamos que o Learning Rate = 1 obtém o melhor resultado nessa amostra. Rodando repetidamente o experimento verificamos que, consistentemente, LR = 1 tem o melhor resultado, seguido por LR = 0.01, LR = 0.00001 e LR = 1000."
   ]
  },
  {
   "cell_type": "markdown",
   "metadata": {},
   "source": [
    "### <font color=firebrick>  3. Learning from Data, Problem 2.19 </font>"
   ]
  },
  {
   "cell_type": "code",
   "execution_count": null,
   "metadata": {
    "collapsed": true
   },
   "outputs": [],
   "source": []
  }
 ],
 "metadata": {
  "kernelspec": {
   "display_name": "Python 3",
   "language": "python",
   "name": "python3"
  },
  "language_info": {
   "codemirror_mode": {
    "name": "ipython",
    "version": 3
   },
   "file_extension": ".py",
   "mimetype": "text/x-python",
   "name": "python",
   "nbconvert_exporter": "python",
   "pygments_lexer": "ipython3",
   "version": "3.6.2"
  }
 },
 "nbformat": 4,
 "nbformat_minor": 2
}
