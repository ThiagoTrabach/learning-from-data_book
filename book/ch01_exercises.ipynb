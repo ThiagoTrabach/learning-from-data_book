{
 "cells": [
  {
   "cell_type": "markdown",
   "metadata": {},
   "source": [
    "# Chapter 1 - Exercises"
   ]
  },
  {
   "cell_type": "code",
   "execution_count": 79,
   "metadata": {
    "collapsed": true
   },
   "outputs": [],
   "source": [
    "from scipy import stats\n",
    "import numpy as np\n",
    "import matplotlib.pyplot as plt\n",
    "import seaborn as sns\n",
    "import random\n",
    "import math\n",
    "from tqdm import tqdm\n",
    "import pprint\n",
    "\n",
    "%matplotlib inline"
   ]
  },
  {
   "cell_type": "markdown",
   "metadata": {},
   "source": [
    "## 1.1 \n",
    "\n",
    "Express each of the following tasks in the framework of learning from data by specifying the input space $X$, output space $Y$, target function $f:\\ X \\to Y$ and the specifics of the data set that we will learn from."
   ]
  },
  {
   "cell_type": "markdown",
   "metadata": {},
   "source": [
    "**(a)** Medical diagnosis: A patient walks in with a medical history and some symptoms, and you want to identify the problem."
   ]
  },
  {
   "cell_type": "markdown",
   "metadata": {},
   "source": [
    "<font color=firebrick>Solution:</font>\n",
    "\n",
    "$X$ : symptoms of past deseases\n",
    "\n",
    "$Y$ : past deseases\n",
    "\n",
    "$f$ : associate symptoms to corresponding desease\n",
    "\n",
    "Specifics of the data : vector of possible symptons and the desease. Symptons as booleans."
   ]
  },
  {
   "cell_type": "markdown",
   "metadata": {},
   "source": [
    "**(b)** Handwritten digit recognition (for example postal zip code recognition for mail sorting)."
   ]
  },
  {
   "cell_type": "markdown",
   "metadata": {},
   "source": [
    "<font color=firebrick>Solution:</font>\n",
    "\n",
    "$X$ : pixel correspondending to a handwritten digit\n",
    "\n",
    "$Y$ : number represented by the pixels\n",
    "\n",
    "$f$ : associate the pixel of a handwritten digit to a number\n",
    "\n",
    "Specifics of the data : individual image for each number of the zip code and a label of its corresponding number"
   ]
  },
  {
   "cell_type": "markdown",
   "metadata": {},
   "source": [
    "**(c)** Determining if an email is spam or not."
   ]
  },
  {
   "cell_type": "markdown",
   "metadata": {},
   "source": [
    "<font color=firebrick>Solution:</font>\n",
    "\n",
    "$X$ : vector of words in each email\n",
    "\n",
    "$Y$ : label if it's spam or not\n",
    "\n",
    "$f$ : classify if the email is spam based on the words in the message\n",
    "\n",
    "Specifics of the data : corpus and title of an email tokenized, and a label it's spam or not"
   ]
  },
  {
   "cell_type": "markdown",
   "metadata": {},
   "source": [
    "**(d)** Predicting how an electric load varies with price, temperature, and day of the week."
   ]
  },
  {
   "cell_type": "markdown",
   "metadata": {},
   "source": [
    "<font color=firebrick>Solution:</font>\n",
    "\n",
    "$X$ : vector with price, temperature and day of the week\n",
    "\n",
    "$Y$ : electricity consumption\n",
    "\n",
    "$f$ : associate the electricity consumption based on price, temperature and day\n",
    "\n",
    "Specifics of the data : vector with price, temperature, day and electricity consumption"
   ]
  },
  {
   "cell_type": "markdown",
   "metadata": {},
   "source": [
    "**(e)** A problem of interest to you for which there is no analytic solution, but you have data from which to construct an empirical solution."
   ]
  },
  {
   "cell_type": "markdown",
   "metadata": {},
   "source": [
    "<font color=firebrick>Solution:</font>\n",
    "\n",
    "$X$ : audio call recording\n",
    "\n",
    "$Y$ : mood during the call\n",
    "\n",
    "$f$ : associate words and how it's said to the emotional state of the speakers\n",
    "\n",
    "Specifics of the data : audio recordings and time stamped labels of the emotional stateof the speakers"
   ]
  },
  {
   "cell_type": "markdown",
   "metadata": {},
   "source": [
    "## 1.2\n",
    "\n",
    "Suppose that we use a perceptron to detect spam messages. Let's say that each email message is represented by the frequency of occurrence of keywords, and the output is if the message is considered spam."
   ]
  },
  {
   "cell_type": "markdown",
   "metadata": {},
   "source": [
    "**(a)** Can you think of some keywords that will end up with a large positive weight in the perceptron?"
   ]
  },
  {
   "cell_type": "markdown",
   "metadata": {},
   "source": [
    "<font color=firebrick>Solution:</font>\n",
    "\n",
    "Deal, sale, promo, sex, win"
   ]
  },
  {
   "cell_type": "markdown",
   "metadata": {},
   "source": [
    "**(b)** How about keywords that will get a negative weight?"
   ]
  },
  {
   "cell_type": "markdown",
   "metadata": {},
   "source": [
    "<font color=firebrick>Solution:</font>\n",
    "\n",
    "uncle, aunt, meeting, appointment"
   ]
  },
  {
   "cell_type": "markdown",
   "metadata": {},
   "source": [
    "**(c)** What parameter in the perceptron directly affects how many border line messages end up being classified as spam?"
   ]
  },
  {
   "cell_type": "markdown",
   "metadata": {},
   "source": [
    "<font color=firebrick>Solution:</font>\n",
    "\n",
    "the weights"
   ]
  },
  {
   "cell_type": "markdown",
   "metadata": {},
   "source": [
    "## 1.3\n",
    "\n",
    "The weight update rule in {1.3) has the nice interpretation that it moves in the direction of classifying $x(t)$ correctly."
   ]
  },
  {
   "cell_type": "markdown",
   "metadata": {},
   "source": [
    "**(a)** Show that $$y(t) \\cdot w^T(t) \\cdot x(t) < 0$$\n",
    "[Hint: $x(t)$ is misclassified by $w(t)$.]"
   ]
  },
  {
   "cell_type": "markdown",
   "metadata": {},
   "source": [
    "<font color=firebrick>Solution:</font>\n",
    "    \n",
    "$$ w^T(t) \\cdot x(t) \\textrm{ misclassified} \\Rightarrow \\textrm{sign}[w^T(t) \\cdot x(t)] = - y(t)$$\n",
    "\n",
    "$$\\Rightarrow y(t) \\cdot w^T(t) \\cdot x(t) < 0$$"
   ]
  },
  {
   "cell_type": "markdown",
   "metadata": {},
   "source": [
    "**(b)** Show that $$y(t) \\cdot w^T(t+ 1) \\cdot x(t) > y(t) \\cdot w^T(t) \\cdot x(t)$$  [Hint: Use (1.3).]"
   ]
  },
  {
   "cell_type": "markdown",
   "metadata": {
    "collapsed": true
   },
   "source": [
    "<font color=firebrick>Solution:</font>\n",
    "\n",
    "$$\n",
    "    y(t) \\cdot w^T(t+ 1) \\cdot x(t) \\quad = \\quad y(t) \\cdot w^T(t) \\cdot x(t) \\quad + \\quad \\underbrace{y(t) \\cdot y^T(t)\\cdot x^T(t) \\cdot x(t)}_{>0} \\quad >  \\quad y(t) \\cdot w^T(t) \\cdot x(t)\n",
    "$$ \n"
   ]
  },
  {
   "cell_type": "markdown",
   "metadata": {},
   "source": [
    "**(c)** As far as classifying $x(t)$ is concerned, argue that the move from $w(t)$ to $w(t + 1)$ is a move 'in the right direction'."
   ]
  },
  {
   "cell_type": "markdown",
   "metadata": {},
   "source": [
    "<font color=firebrick>Solution:</font>\n",
    "\n",
    "As we know that misclassified $f(x)$ have $y(t) \\cdot w^T(t) \\cdot x(t) < 0$. \n",
    "\n",
    "To move toward a correct classification, $y(t) \\cdot w^T(t+ 1) \\cdot x(t)$ must be greater than $ y(t) \\cdot w^T(t) \\cdot x(t)$.\n",
    "\n",
    "Choosing the increment as $y(t) \\cdot x(t) $ we can guarantee that $y(t) \\cdot w^T(t+ 1) \\cdot x(t) > y(t) \\cdot w^T(t) \\cdot x(t)$."
   ]
  },
  {
   "cell_type": "markdown",
   "metadata": {},
   "source": [
    "## 1.4\n",
    "\n",
    "Let us create our own target function $f$ and data set $D$ and see how the perceptron learning algorithm works. Take $d = 2$ so you can visualize the problem, and choose a random line in the plane as your target function, where one side of the line maps to 1 and the other maps to -1. Choose the inputs $x_n$ of the data set as random points in the plane, and evaluate the target function on each $x_n$ to get the corresponding output $y_n$·\n",
    "\n",
    "Now, generate a data set of size 20. Try the perceptron learning algorithm on your data set and see how long it takes to converge and how well the final hypothesis $g$ matches your target $f$. You can find other ways to play with this experiment in Problem 1.4."
   ]
  },
  {
   "cell_type": "markdown",
   "metadata": {},
   "source": [
    "<font color=firebrick>Solution:</font>\n",
    "\n"
   ]
  },
  {
   "cell_type": "code",
   "execution_count": 233,
   "metadata": {
    "collapsed": true
   },
   "outputs": [],
   "source": [
    "#dimension(d) and sample size(n)\n",
    "d = 2\n",
    "n = 20\n",
    "\n",
    "#classfication line\n",
    "fx = np.matrix('-0.5;0.5;0.5')"
   ]
  },
  {
   "cell_type": "code",
   "execution_count": 266,
   "metadata": {},
   "outputs": [
    {
     "ename": "ValueError",
     "evalue": "shapes (3,1) and (3,20) not aligned: 1 (dim 1) != 3 (dim 0)",
     "output_type": "error",
     "traceback": [
      "\u001b[0;31m---------------------------------------------------------------------------\u001b[0m",
      "\u001b[0;31mValueError\u001b[0m                                Traceback (most recent call last)",
      "\u001b[0;32m<ipython-input-266-4fcd2359ca69>\u001b[0m in \u001b[0;36m<module>\u001b[0;34m()\u001b[0m\n\u001b[1;32m      6\u001b[0m \u001b[0;34m\u001b[0m\u001b[0m\n\u001b[1;32m      7\u001b[0m \u001b[0;34m\u001b[0m\u001b[0m\n\u001b[0;32m----> 8\u001b[0;31m \u001b[0my\u001b[0m \u001b[0;34m=\u001b[0m \u001b[0mnp\u001b[0m\u001b[0;34m.\u001b[0m\u001b[0mmatrix\u001b[0m\u001b[0;34m(\u001b[0m\u001b[0mnp\u001b[0m\u001b[0;34m.\u001b[0m\u001b[0msign\u001b[0m\u001b[0;34m(\u001b[0m\u001b[0mfx\u001b[0m\u001b[0;34m.\u001b[0m\u001b[0mdot\u001b[0m\u001b[0;34m(\u001b[0m\u001b[0mx\u001b[0m\u001b[0;34m)\u001b[0m\u001b[0;34m)\u001b[0m\u001b[0;34m)\u001b[0m\u001b[0;34m\u001b[0m\u001b[0m\n\u001b[0m\u001b[1;32m      9\u001b[0m \u001b[0;34m\u001b[0m\u001b[0m\n\u001b[1;32m     10\u001b[0m \u001b[0;31m#starting weight\u001b[0m\u001b[0;34m\u001b[0m\u001b[0;34m\u001b[0m\u001b[0m\n",
      "\u001b[0;31mValueError\u001b[0m: shapes (3,1) and (3,20) not aligned: 1 (dim 1) != 3 (dim 0)"
     ]
    }
   ],
   "source": [
    "#generate sample\n",
    "x = np.random.uniform(-1,1, [d,n])\n",
    "x0 = np.ones((1,n))\n",
    "\n",
    "x = np.matrix(np.vstack((x0, x)))\n",
    "\n",
    "\n",
    "y = np.matrix(np.sign(fx.dot(x)))\n",
    "\n",
    "#starting weight\n",
    "\n",
    "pp = pprint.PrettyPrinter(indent=1)\n",
    "pp.pprint(x)\n",
    "pp.pprint(y)\n"
   ]
  },
  {
   "cell_type": "code",
   "execution_count": 248,
   "metadata": {
    "collapsed": true
   },
   "outputs": [],
   "source": [
    "def perceptron(w, x, y):\n",
    "    \n",
    "    #randomly select one observation\n",
    "    k = random.choice(range(x.shape[1]))\n",
    "    \n",
    "    #verify if prediction is equal to the real value\n",
    "    y_hat = w.T*x[0:x.shape[0],k]\n",
    "    \n",
    "    if y_hat != y[0,k]:\n",
    "        w = w + x[0:x.shape[0],k]*y[0,k]\n",
    "        \n",
    "    return w"
   ]
  },
  {
   "cell_type": "code",
   "execution_count": 249,
   "metadata": {},
   "outputs": [
    {
     "name": "stdout",
     "output_type": "stream",
     "text": [
      "[[ -24.        ]\n",
      " [  97.04624426]\n",
      " [ 219.89147749]]\n"
     ]
    }
   ],
   "source": [
    "w = np.matrix(np.zeros((d + 1,1)))\n",
    "\n",
    "for i in range(1000):\n",
    "    w = perceptron(w,x,y)\n",
    "\n",
    "print(w)"
   ]
  },
  {
   "cell_type": "code",
   "execution_count": 243,
   "metadata": {},
   "outputs": [
    {
     "data": {
      "text/plain": [
       "matrix([[ 1.        ],\n",
       "        [ 0.42865308],\n",
       "        [ 0.94793688]])"
      ]
     },
     "execution_count": 243,
     "metadata": {},
     "output_type": "execute_result"
    }
   ],
   "source": [
    "x[0:x.shape[0],k]*y[0,k]"
   ]
  },
  {
   "cell_type": "code",
   "execution_count": 250,
   "metadata": {
    "collapsed": true
   },
   "outputs": [],
   "source": [
    "w = np.matrix(np.zeros((d + 1,1)))"
   ]
  },
  {
   "cell_type": "code",
   "execution_count": 253,
   "metadata": {
    "collapsed": true
   },
   "outputs": [],
   "source": [
    "k = random.choice(range(x.shape[1]))\n",
    "    \n",
    "    #verify if prediction is equal to the real value\n",
    "y_hat = w.T*x[0:x.shape[0],k]"
   ]
  },
  {
   "cell_type": "code",
   "execution_count": 265,
   "metadata": {},
   "outputs": [
    {
     "data": {
      "text/plain": [
       "array([[ 0.69976721,  0.75510071],\n",
       "       [ 0.68233327, -0.59852036]])"
      ]
     },
     "execution_count": 265,
     "metadata": {},
     "output_type": "execute_result"
    }
   ],
   "source": [
    "np.random.uniform(-1,1, [2,2])"
   ]
  },
  {
   "cell_type": "code",
   "execution_count": 267,
   "metadata": {},
   "outputs": [
    {
     "data": {
      "text/plain": [
       "matrix([[  1.00000000e+00,   1.00000000e+00,   1.00000000e+00,\n",
       "           1.00000000e+00,   1.00000000e+00,   1.00000000e+00,\n",
       "           1.00000000e+00,   1.00000000e+00,   1.00000000e+00,\n",
       "           1.00000000e+00,   1.00000000e+00,   1.00000000e+00,\n",
       "           1.00000000e+00,   1.00000000e+00,   1.00000000e+00,\n",
       "           1.00000000e+00,   1.00000000e+00,   1.00000000e+00,\n",
       "           1.00000000e+00,   1.00000000e+00],\n",
       "        [ -8.78764726e-01,   6.04143409e-01,   2.00616776e-01,\n",
       "           5.06164139e-01,   6.18474933e-01,   5.56383840e-04,\n",
       "          -5.46165369e-01,   3.10697716e-02,   2.27288961e-01,\n",
       "          -5.86362934e-01,   1.25877501e-01,   1.28372276e-01,\n",
       "           3.13897601e-02,  -3.72544208e-01,  -9.90115795e-01,\n",
       "           4.97865551e-01,   5.77180131e-01,  -9.08361237e-02,\n",
       "          -1.54863803e-01,  -8.87248156e-01],\n",
       "        [  8.72330581e-01,   5.06316857e-01,  -9.16786785e-02,\n",
       "          -5.35106263e-01,  -6.61652725e-01,   7.58127740e-01,\n",
       "          -3.81270873e-01,  -2.35525113e-02,   4.13429918e-01,\n",
       "          -7.08843306e-01,  -9.82645209e-02,  -1.48373012e-01,\n",
       "          -8.33167377e-01,   5.26508803e-01,   8.47985529e-01,\n",
       "           6.55782455e-01,  -3.24737871e-01,   8.30270304e-01,\n",
       "           9.69905700e-01,   7.40978875e-01]])"
      ]
     },
     "execution_count": 267,
     "metadata": {},
     "output_type": "execute_result"
    }
   ],
   "source": [
    "x"
   ]
  },
  {
   "cell_type": "code",
   "execution_count": null,
   "metadata": {
    "collapsed": true
   },
   "outputs": [],
   "source": []
  },
  {
   "cell_type": "code",
   "execution_count": null,
   "metadata": {
    "collapsed": true
   },
   "outputs": [],
   "source": []
  },
  {
   "cell_type": "code",
   "execution_count": null,
   "metadata": {
    "collapsed": true
   },
   "outputs": [],
   "source": []
  },
  {
   "cell_type": "code",
   "execution_count": null,
   "metadata": {
    "collapsed": true
   },
   "outputs": [],
   "source": []
  },
  {
   "cell_type": "code",
   "execution_count": 2,
   "metadata": {},
   "outputs": [
    {
     "name": "stdout",
     "output_type": "stream",
     "text": [
      "v_1 = 0.7\n",
      "v_rand = 0.4\n",
      "v_min = 0.1\n"
     ]
    }
   ],
   "source": [
    "flips = []\n",
    "sample_size = 10\n",
    "\n",
    "#gera o sample\n",
    "for i in range(0,1000):\n",
    "        flips.append(stats.bernoulli.rvs(0.5, size = sample_size))\n",
    "\n",
    "\n",
    "#gera as moedas dos teste\n",
    "c_1 =  flips[0]\n",
    "c_rand = flips[random.randrange(1000)]\n",
    "\n",
    "\n",
    "min_heads = min([sum(x) for x in flips])\n",
    "\n",
    "for i in range(0,1000):\n",
    "    if sum(flips[i]) == min_heads:\n",
    "        c_min = flips[i]\n",
    "        break\n",
    "\n",
    "\n",
    "v_1 = np.mean(c_1)\n",
    "v_rand = np.mean(c_rand)\n",
    "v_min = np.mean(c_min)\n",
    "\n",
    "\n",
    "print(f\"v_1 = {v_1}\")\n",
    "print(f\"v_rand = {v_rand}\")\n",
    "print(f\"v_min = {v_min}\")"
   ]
  },
  {
   "cell_type": "markdown",
   "metadata": {},
   "source": [
    "b)"
   ]
  },
  {
   "cell_type": "code",
   "execution_count": 53,
   "metadata": {},
   "outputs": [
    {
     "name": "stderr",
     "output_type": "stream",
     "text": [
      "100%|██████████| 1000/1000 [00:58<00:00, 18.32it/s]\n"
     ]
    }
   ],
   "source": [
    "sample_size = 10\n",
    "experiments = 10**3\n",
    "\n",
    "\n",
    "v_1_list = []\n",
    "v_rand_list = []\n",
    "v_min_list = []\n",
    "\n",
    "for n in tqdm(range(experiments)):\n",
    "    \n",
    "    flips = []\n",
    "\n",
    "    #gera o sample\n",
    "    for i in range(0,1000):\n",
    "        flips.append(stats.bernoulli.rvs(0.5, size = sample_size))\n",
    "\n",
    "\n",
    "    #gera as moedas dos teste\n",
    "    c_1 =  flips[0]\n",
    "    c_rand = flips[random.randrange(1000)]\n",
    "\n",
    "\n",
    "    min_heads = min([sum(x) for x in flips])\n",
    "\n",
    "    for j in range(0,1000):\n",
    "        if sum(flips[j]) == min_heads:\n",
    "            c_min = flips[j]\n",
    "            break\n",
    "\n",
    "\n",
    "    v_1 = np.mean(c_1)\n",
    "    v_rand = np.mean(c_rand)\n",
    "    if min_heads == 0:\n",
    "        v_min = 0\n",
    "    else:\n",
    "        v_min = np.mean(c_min)\n",
    "\n",
    "    v_1_list.append(v_1)\n",
    "    v_rand_list.append(v_rand)\n",
    "    v_min_list.append(v_min)"
   ]
  },
  {
   "cell_type": "code",
   "execution_count": 58,
   "metadata": {},
   "outputs": [
    {
     "data": {
      "image/png": "[encoded data removed]",
      "text/plain": [
       "<matplotlib.figure.Figure at 0x111dbc470>"
      ]
     },
     "metadata": {},
     "output_type": "display_data"
    }
   ],
   "source": [
    "plt.hist(v_1_list, bins =  np.arange(0, 1.1, 0.1))\n",
    "plt.show()"
   ]
  },
  {
   "cell_type": "code",
   "execution_count": 59,
   "metadata": {},
   "outputs": [
    {
     "data": {
      "image/png": "[encoded data removed]",
      "text/plain": [
       "<matplotlib.figure.Figure at 0x112143eb8>"
      ]
     },
     "metadata": {},
     "output_type": "display_data"
    }
   ],
   "source": [
    "plt.hist(v_rand_list, bins =  np.arange(0, 1.1, 0.1))\n",
    "plt.show()"
   ]
  },
  {
   "cell_type": "code",
   "execution_count": 60,
   "metadata": {},
   "outputs": [
    {
     "data": {
      "image/png": "[encoded data removed]",
      "text/plain": [
       "<matplotlib.figure.Figure at 0x111c3a400>"
      ]
     },
     "metadata": {},
     "output_type": "display_data"
    }
   ],
   "source": [
    "plt.hist(v_min_list, bins =  np.arange(0, 1.1, 0.1))\n",
    "plt.show()"
   ]
  },
  {
   "cell_type": "markdown",
   "metadata": {},
   "source": [
    "c)"
   ]
  },
  {
   "cell_type": "code",
   "execution_count": 101,
   "metadata": {
    "collapsed": true
   },
   "outputs": [],
   "source": [
    "def probability(e, experiments):\n",
    "   return sum(abs(np.asarray(v_rand_list) - 0.5) > e)/experiments"
   ]
  },
  {
   "cell_type": "code",
   "execution_count": 123,
   "metadata": {
    "collapsed": true
   },
   "outputs": [],
   "source": [
    "e = np.arange(0, 1.01, 0.01)\n",
    "prob = [probability(x, 1000) for x in list(e)]\n",
    "bound = [2*math.exp(-2*(x**2) * 1000) for x in list(e)]"
   ]
  },
  {
   "cell_type": "code",
   "execution_count": 124,
   "metadata": {},
   "outputs": [
    {
     "data": {
      "image/png": "[encoded data removed]",
      "text/plain": [
       "<matplotlib.figure.Figure at 0x113508400>"
      ]
     },
     "metadata": {},
     "output_type": "display_data"
    }
   ],
   "source": [
    "plt.plot(e, prob,'r') # plotting t,a separately \n",
    "plt.plot(e, bound,'b') # plotting t,b separately \n",
    "plt.show()"
   ]
  },
  {
   "cell_type": "code",
   "execution_count": 111,
   "metadata": {},
   "outputs": [
    {
     "data": {
      "text/plain": [
       "0.32600000000000001"
      ]
     },
     "execution_count": 111,
     "metadata": {},
     "output_type": "execute_result"
    }
   ],
   "source": [
    "probability(0.1, 1000)"
   ]
  },
  {
   "cell_type": "code",
   "execution_count": 113,
   "metadata": {},
   "outputs": [
    {
     "data": {
      "text/plain": [
       "1.8048513878453896e-35"
      ]
     },
     "execution_count": 113,
     "metadata": {},
     "output_type": "execute_result"
    }
   ],
   "source": [
    "math.exp(-2 * (0.2**2) * 1000)"
   ]
  },
  {
   "cell_type": "code",
   "execution_count": 117,
   "metadata": {},
   "outputs": [
    {
     "data": {
      "text/plain": [
       "1"
      ]
     },
     "execution_count": 117,
     "metadata": {},
     "output_type": "execute_result"
    }
   ],
   "source": [
    "sum([True, False])"
   ]
  },
  {
   "cell_type": "code",
   "execution_count": 125,
   "metadata": {},
   "outputs": [
    {
     "data": {
      "text/plain": [
       "0.0"
      ]
     },
     "execution_count": 125,
     "metadata": {},
     "output_type": "execute_result"
    }
   ],
   "source": [
    ".45**1000"
   ]
  },
  {
   "cell_type": "code",
   "execution_count": 131,
   "metadata": {},
   "outputs": [
    {
     "data": {
      "text/plain": [
       "0.2886311978498084"
      ]
     },
     "execution_count": 131,
     "metadata": {},
     "output_type": "execute_result"
    }
   ],
   "source": [
    "1-stats.binom.pmf(0, 1000, 0.45**10)"
   ]
  },
  {
   "cell_type": "code",
   "execution_count": 132,
   "metadata": {},
   "outputs": [
    {
     "data": {
      "text/plain": [
       "0.00034050628916015635"
      ]
     },
     "execution_count": 132,
     "metadata": {},
     "output_type": "execute_result"
    }
   ],
   "source": [
    "0.45**10"
   ]
  },
  {
   "cell_type": "code",
   "execution_count": null,
   "metadata": {
    "collapsed": true
   },
   "outputs": [],
   "source": []
  }
 ],
 "metadata": {
  "kernelspec": {
   "display_name": "Python 3",
   "language": "python",
   "name": "python3"
  },
  "language_info": {
   "codemirror_mode": {
    "name": "ipython",
    "version": 3
   },
   "file_extension": ".py",
   "mimetype": "text/x-python",
   "name": "python",
   "nbconvert_exporter": "python",
   "pygments_lexer": "ipython3",
   "version": "3.6.2"
  }
 },
 "nbformat": 4,
 "nbformat_minor": 2
}
