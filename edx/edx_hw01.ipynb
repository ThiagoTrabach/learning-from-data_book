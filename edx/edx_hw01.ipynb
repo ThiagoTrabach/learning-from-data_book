{
 "cells": [
  {
   "cell_type": "markdown",
   "metadata": {},
   "source": [
    "# Homework #1"
   ]
  },
  {
   "cell_type": "markdown",
   "metadata": {},
   "source": [
    "## Perceptron Learning Algorithm"
   ]
  },
  {
   "cell_type": "markdown",
   "metadata": {},
   "source": [
    "Firt the algorithm will be implemented"
   ]
  },
  {
   "cell_type": "code",
   "execution_count": 1,
   "metadata": {
    "collapsed": true
   },
   "outputs": [],
   "source": [
    "from scipy import stats\n",
    "import numpy as np\n",
    "import matplotlib.pyplot as plt\n",
    "import seaborn as sns\n",
    "import random\n",
    "import math\n",
    "from tqdm import tqdm\n",
    "import pprint\n",
    "\n",
    "%matplotlib inline"
   ]
  },
  {
   "cell_type": "code",
   "execution_count": 2,
   "metadata": {
    "collapsed": true
   },
   "outputs": [],
   "source": [
    "def perceptron(w, x, y):\n",
    "    \n",
    "    #randomly select one observation\n",
    "    k = random.choice(range(x.shape[1]))\n",
    "    \n",
    "    #verify if prediction is equal to the real value\n",
    "    y_hat = np.sign(w.T*x[0:x.shape[0],k])\n",
    "    \n",
    "    if y_hat != y[0,k]:\n",
    "        w = w + x[0:x.shape[0],k]*y[0,k]\n",
    "        \n",
    "    return w"
   ]
  },
  {
   "cell_type": "code",
   "execution_count": 128,
   "metadata": {
    "collapsed": true
   },
   "outputs": [],
   "source": [
    "def perceptron_optimal(w, x, y):\n",
    "    \n",
    "    #randomly select one observation where y_hat != y\n",
    "    k_vector = (np.sign(w.T*x) != y).tolist()[0]\n",
    "    k = random.choice(np.where(k_vector)[0])\n",
    "    \n",
    "    #verify if prediction is equal to the real value\n",
    "\n",
    "    w = w + x[0:x.shape[0],k]*y[0,k]\n",
    "        \n",
    "    return w"
   ]
  },
  {
   "cell_type": "markdown",
   "metadata": {},
   "source": [
    "## ex.7"
   ]
  },
  {
   "cell_type": "markdown",
   "metadata": {},
   "source": [
    "sample points plotted"
   ]
  },
  {
   "cell_type": "code",
   "execution_count": 294,
   "metadata": {},
   "outputs": [
    {
     "data": {
      "text/plain": [
       "<function matplotlib.pyplot.show>"
      ]
     },
     "execution_count": 294,
     "metadata": {},
     "output_type": "execute_result"
    },
    {
     "data": {
      "image/png": "[encoded data removed]",
      "text/plain": [
       "<matplotlib.figure.Figure at 0x10a96a128>"
      ]
     },
     "metadata": {},
     "output_type": "display_data"
    }
   ],
   "source": [
    "#dimension(d) and sample size(n)\n",
    "d = 2\n",
    "n = 10\n",
    "\n",
    "#classfication line\n",
    "fx = np.matrix('0;' + str(np.random.uniform(-1,1,)) + ';' + str(np.random.uniform(-1,1)))\n",
    "\n",
    "\n",
    "#generate sample\n",
    "x = np.random.uniform(-1,1, [d,n])\n",
    "x0 = np.ones((1,n))\n",
    "\n",
    "x = np.matrix(np.vstack((x0, x)))\n",
    "\n",
    "\n",
    "y = np.matrix(np.sign(fx.T*x))\n",
    "\n",
    "\n",
    "\n",
    "#plotting\n",
    "\n",
    "x_ar = np.array(x[1])\n",
    "y_ar = np.array(x[2])\n",
    "\n",
    "x_pos = x_ar[0][list(np.array(y[0] == 1)[0])]\n",
    "y_pos = y_ar[0][list(np.array(y[0] == 1)[0])]\n",
    "\n",
    "x_neg = x_ar[0][list(np.array(y[0] == -1)[0])]\n",
    "y_neg = y_ar[0][list(np.array(y[0] == -1)[0])]\n",
    "\n",
    "plt.scatter(x_pos, y_pos, marker='+')\n",
    "plt.scatter(x_neg, y_neg, marker='o')\n",
    "\n",
    "\n",
    "plt.show\n",
    "\n"
   ]
  },
  {
   "cell_type": "markdown",
   "metadata": {},
   "source": [
    "PLA"
   ]
  },
  {
   "cell_type": "code",
   "execution_count": 344,
   "metadata": {},
   "outputs": [
    {
     "name": "stderr",
     "output_type": "stream",
     "text": [
      "100%|██████████| 10000/10000 [00:10<00:00, 917.94it/s]\n"
     ]
    },
    {
     "data": {
      "text/plain": [
       "'Average # Steps = 6.5059'"
      ]
     },
     "execution_count": 344,
     "metadata": {},
     "output_type": "execute_result"
    },
    {
     "data": {
      "image/png": "[encoded data removed]",
      "text/plain": [
       "<matplotlib.figure.Figure at 0x10a7d42e8>"
      ]
     },
     "metadata": {},
     "output_type": "display_data"
    }
   ],
   "source": [
    "#dimension(d) and sample size(n)\n",
    "d = 2\n",
    "n = 10\n",
    "runs = 10000\n",
    "\n",
    "#set number of steps\n",
    "steps = 5000\n",
    "\n",
    "\n",
    "#run pla\n",
    "multiple_run_steps = []\n",
    "multiple_run_prob = []\n",
    "\n",
    "for j in tqdm(range(runs)):\n",
    "    \n",
    "    #classfication line\n",
    "    fx = np.matrix('0;' + str(np.random.uniform(-1,1,)) + ';' + str(np.random.uniform(-1,1)))\n",
    "\n",
    "    #generate sample\n",
    "    x = np.random.uniform(-1,1, [d,n])\n",
    "    x0 = np.ones((1,n))\n",
    "    x = np.matrix(np.vstack((x0, x)))\n",
    "\n",
    "    y = np.matrix(np.sign(fx.T*x))\n",
    "    \n",
    "    w = np.matrix(np.zeros((d + 1,1)))\n",
    "\n",
    "    for i in range(steps):\n",
    "        w = perceptron_optimal(w,x,y)\n",
    "\n",
    "        if np.matrix.all(y == np.sign(w.T*x)):\n",
    "            multiple_run_steps.append(i)\n",
    "            \n",
    "            multiple_run_prob.append(prob_dif(2, 10000, fx, w))\n",
    "            \n",
    "            break\n",
    "\n",
    "            \n",
    "#show results\n",
    "plt.hist(multiple_run_steps, normed = True)\n",
    "\n",
    "'Average # Steps = {}'.format(sum(multiple_run_steps)/len(multiple_run_steps)) "
   ]
  },
  {
   "cell_type": "markdown",
   "metadata": {},
   "source": [
    "# ex.8"
   ]
  },
  {
   "cell_type": "code",
   "execution_count": 335,
   "metadata": {},
   "outputs": [
    {
     "data": {
      "text/plain": [
       "'Average # Steps = 0.08117583999999949'"
      ]
     },
     "execution_count": 335,
     "metadata": {},
     "output_type": "execute_result"
    },
    {
     "data": {
      "image/png": "[encoded data removed]",
      "text/plain": [
       "<matplotlib.figure.Figure at 0x10aba19e8>"
      ]
     },
     "metadata": {},
     "output_type": "display_data"
    }
   ],
   "source": [
    "plt.hist(multiple_run_prob, normed = True)\n",
    "\n",
    "'Average # Steps = {}'.format(sum(multiple_run_prob)/len(multiple_run_prob)) "
   ]
  },
  {
   "cell_type": "markdown",
   "metadata": {},
   "source": [
    "## ex.9"
   ]
  },
  {
   "cell_type": "markdown",
   "metadata": {},
   "source": [
    "sample points plotted"
   ]
  },
  {
   "cell_type": "code",
   "execution_count": 336,
   "metadata": {},
   "outputs": [
    {
     "data": {
      "text/plain": [
       "<function matplotlib.pyplot.show>"
      ]
     },
     "execution_count": 336,
     "metadata": {},
     "output_type": "execute_result"
    },
    {
     "data": {
      "image/png": "[encoded data removed]",
      "text/plain": [
       "<matplotlib.figure.Figure at 0x10a7a0f98>"
      ]
     },
     "metadata": {},
     "output_type": "display_data"
    }
   ],
   "source": [
    "#dimension(d) and sample size(n)\n",
    "d = 2\n",
    "n = 100\n",
    "\n",
    "#classfication line\n",
    "fx = np.matrix('0;' + str(np.random.uniform(-1,1,)) + ';' + str(np.random.uniform(-1,1)))\n",
    "\n",
    "\n",
    "#generate sample\n",
    "x = np.random.uniform(-1,1, [d,n])\n",
    "x0 = np.ones((1,n))\n",
    "\n",
    "x = np.matrix(np.vstack((x0, x)))\n",
    "\n",
    "\n",
    "y = np.matrix(np.sign(fx.T*x))\n",
    "\n",
    "\n",
    "\n",
    "#plotting\n",
    "\n",
    "x_ar = np.array(x[1])\n",
    "y_ar = np.array(x[2])\n",
    "\n",
    "x_pos = x_ar[0][list(np.array(y[0] == 1)[0])]\n",
    "y_pos = y_ar[0][list(np.array(y[0] == 1)[0])]\n",
    "\n",
    "x_neg = x_ar[0][list(np.array(y[0] == -1)[0])]\n",
    "y_neg = y_ar[0][list(np.array(y[0] == -1)[0])]\n",
    "\n",
    "plt.scatter(x_pos, y_pos, marker='+')\n",
    "plt.scatter(x_neg, y_neg, marker='o')\n",
    "\n",
    "\n",
    "plt.show\n",
    "\n"
   ]
  },
  {
   "cell_type": "markdown",
   "metadata": {},
   "source": [
    "PLA"
   ]
  },
  {
   "cell_type": "code",
   "execution_count": 339,
   "metadata": {},
   "outputs": [
    {
     "name": "stderr",
     "output_type": "stream",
     "text": [
      "100%|██████████| 100000/100000 [04:04<00:00, 408.30it/s]\n"
     ]
    },
    {
     "data": {
      "text/plain": [
       "'Average # Steps = 28.416696667866713'"
      ]
     },
     "execution_count": 339,
     "metadata": {},
     "output_type": "execute_result"
    },
    {
     "data": {
      "image/png": "[encoded data removed]",
      "text/plain": [
       "<matplotlib.figure.Figure at 0x10a7a0940>"
      ]
     },
     "metadata": {},
     "output_type": "display_data"
    }
   ],
   "source": [
    "#dimension(d) and sample size(n)\n",
    "d = 2\n",
    "n = 100\n",
    "runs = 100000\n",
    "\n",
    "#set number of steps\n",
    "steps = 5000\n",
    "\n",
    "\n",
    "#run pla\n",
    "multiple_run_steps = []\n",
    "multiple_run_prob = []\n",
    "\n",
    "for j in tqdm(range(runs)):\n",
    "    \n",
    "    #classfication line\n",
    "    fx = np.matrix('0;' + str(np.random.uniform(-1,1,)) + ';' + str(np.random.uniform(-1,1)))\n",
    "\n",
    "    #generate sample\n",
    "    x = np.random.uniform(-1,1, [d,n])\n",
    "    x0 = np.ones((1,n))\n",
    "    x = np.matrix(np.vstack((x0, x)))\n",
    "\n",
    "    y = np.matrix(np.sign(fx.T*x))\n",
    "    \n",
    "    w = np.matrix(np.zeros((d + 1,1)))\n",
    "\n",
    "    for i in range(steps):\n",
    "        w = perceptron_optimal(w,x,y)\n",
    "\n",
    "        if np.matrix.all(y == np.sign(w.T*x)):\n",
    "            multiple_run_steps.append(i)\n",
    "            \n",
    "            multiple_run_prob.append(prob_dif(2, 10000, fx, w))\n",
    "            \n",
    "            break\n",
    "\n",
    "            \n",
    "#show results\n",
    "plt.hist(multiple_run_steps, normed = True)\n",
    "\n",
    "'Average # Steps = {}'.format(sum(multiple_run_steps)/len(multiple_run_steps)) "
   ]
  },
  {
   "cell_type": "markdown",
   "metadata": {},
   "source": [
    "# ex.10"
   ]
  },
  {
   "cell_type": "code",
   "execution_count": 342,
   "metadata": {},
   "outputs": [
    {
     "data": {
      "text/plain": [
       "'Average # Steps = 0.006690862634505322'"
      ]
     },
     "execution_count": 342,
     "metadata": {},
     "output_type": "execute_result"
    },
    {
     "data": {
      "image/png": "[encoded data removed]",
      "text/plain": [
       "<matplotlib.figure.Figure at 0x10a4894a8>"
      ]
     },
     "metadata": {},
     "output_type": "display_data"
    }
   ],
   "source": [
    "plt.hist(multiple_run_prob, normed = True)\n",
    "\n",
    "'Average # Steps = {}'.format(sum(multiple_run_prob)/len(multiple_run_prob)) "
   ]
  },
  {
   "cell_type": "code",
   "execution_count": null,
   "metadata": {
    "collapsed": true
   },
   "outputs": [],
   "source": []
  }
 ],
 "metadata": {
  "kernelspec": {
   "display_name": "Python 3",
   "language": "python",
   "name": "python3"
  },
  "language_info": {
   "codemirror_mode": {
    "name": "ipython",
    "version": 3
   },
   "file_extension": ".py",
   "mimetype": "text/x-python",
   "name": "python",
   "nbconvert_exporter": "python",
   "pygments_lexer": "ipython3",
   "version": "3.6.2"
  }
 },
 "nbformat": 4,
 "nbformat_minor": 2
}
