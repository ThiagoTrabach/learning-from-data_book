{
 "cells": [
  {
   "cell_type": "markdown",
   "metadata": {},
   "source": [
    "# Homework #2"
   ]
  },
  {
   "cell_type": "code",
   "execution_count": 109,
   "metadata": {
    "collapsed": true
   },
   "outputs": [],
   "source": [
    "from scipy import stats\n",
    "import numpy as np\n",
    "import matplotlib.pyplot as plt\n",
    "import seaborn as sns\n",
    "import random\n",
    "import math\n",
    "from tqdm import tqdm\n",
    "import pprint\n",
    "from statistics import mean\n",
    "\n",
    "%matplotlib inline"
   ]
  },
  {
   "cell_type": "markdown",
   "metadata": {},
   "source": [
    "## Hoeﬀding Inequality"
   ]
  },
  {
   "cell_type": "markdown",
   "metadata": {},
   "source": [
    "### <font color=firebrick> Ex.1 </font>"
   ]
  },
  {
   "cell_type": "code",
   "execution_count": 118,
   "metadata": {
    "collapsed": true
   },
   "outputs": [],
   "source": [
    "def flip_coins(flips, times):\n",
    "    \n",
    "    samples = np.random.binomial(1,0.5,[times, flips])\n",
    "    \n",
    "    #pick c coins:\n",
    "    c_1 = samples[0]\n",
    "    c_rand = samples[random.randrange(0,flips)]\n",
    "    \n",
    "    min_head = min(samples.sum(axis = 1))\n",
    "    \n",
    "    for i in range(times):\n",
    "        min_head_sample = sum(samples[i])\n",
    "        \n",
    "        if min_head_sample == min_head:\n",
    "            c_min = samples[i]\n",
    "            break\n",
    "    \n",
    "    \n",
    "    #calculate frequency for the coins\n",
    "    \n",
    "    v_1 = np.mean(c_1)\n",
    "    v_rand = np.mean(c_rand)\n",
    "    v_min = np.mean(c_min)\n",
    "    \n",
    "    return v_1, v_rand, v_min\n"
   ]
  },
  {
   "cell_type": "code",
   "execution_count": 119,
   "metadata": {},
   "outputs": [
    {
     "name": "stderr",
     "output_type": "stream",
     "text": [
      "100%|██████████| 100000/100000 [01:54<00:00, 873.28it/s]\n"
     ]
    }
   ],
   "source": [
    "samples = 10**5\n",
    "\n",
    "v_1_samples = []\n",
    "v_rand_samples = []\n",
    "v_min_samples = []\n",
    "\n",
    "for i in tqdm(range(samples)):\n",
    "    v_1, v_rand, v_min = flip_coins(10, 1000)\n",
    "    \n",
    "    v_1_samples.append(v_1)\n",
    "    v_rand_samples.append(v_rand)\n",
    "    v_min_samples.append(v_min)\n",
    "    "
   ]
  },
  {
   "cell_type": "code",
   "execution_count": 120,
   "metadata": {},
   "outputs": [
    {
     "data": {
      "text/plain": [
       "0.037643000000000003"
      ]
     },
     "execution_count": 120,
     "metadata": {},
     "output_type": "execute_result"
    }
   ],
   "source": [
    "mean(v_min_samples)"
   ]
  },
  {
   "cell_type": "markdown",
   "metadata": {},
   "source": [
    "Some plotting"
   ]
  },
  {
   "cell_type": "code",
   "execution_count": 121,
   "metadata": {},
   "outputs": [
    {
     "data": {
      "image/png": "[encoded data removed]",
      "text/plain": [
       "<matplotlib.figure.Figure at 0x112ff78d0>"
      ]
     },
     "metadata": {},
     "output_type": "display_data"
    }
   ],
   "source": [
    "plt.hist(np.multiply(v_1_samples, 10), bins =  np.arange(0, 11, 1))\n",
    "plt.show()"
   ]
  },
  {
   "cell_type": "code",
   "execution_count": 122,
   "metadata": {},
   "outputs": [
    {
     "data": {
      "image/png": "[encoded data removed]",
      "text/plain": [
       "<matplotlib.figure.Figure at 0x112ff7080>"
      ]
     },
     "metadata": {},
     "output_type": "display_data"
    }
   ],
   "source": [
    "plt.hist(np.multiply(v_rand_samples, 10), bins =  np.arange(0, 11, 1))\n",
    "plt.show()"
   ]
  },
  {
   "cell_type": "code",
   "execution_count": 123,
   "metadata": {},
   "outputs": [
    {
     "data": {
      "image/png": "[encoded data removed]",
      "text/plain": [
       "<matplotlib.figure.Figure at 0x112ff7f98>"
      ]
     },
     "metadata": {},
     "output_type": "display_data"
    }
   ],
   "source": [
    "plt.hist(np.multiply(v_min_samples, 10), bins =  np.arange(0, 11, 1))\n",
    "plt.show()"
   ]
  },
  {
   "cell_type": "markdown",
   "metadata": {},
   "source": [
    "### <font color=firebrick> Ex.2 </font>"
   ]
  },
  {
   "cell_type": "markdown",
   "metadata": {},
   "source": [
    "$$\n",
    "P(| \\bar{X} - \\mu | > \\epsilon )\\quad \\leq \\quad  2e^{-2\\epsilon^2N} \\Rightarrow \\\\ \n",
    "\\Rightarrow P(\\bar{X} > \\mu + \\epsilon  \\ \\ \\cup \\ \\ \\bar{X} < \\mu - \\epsilon ) \\quad \\leq \\quad 2e^{-2\\epsilon^2N} \\Rightarrow\n",
    "$$\n"
   ]
  },
  {
   "cell_type": "code",
   "execution_count": 154,
   "metadata": {
    "collapsed": true
   },
   "outputs": [],
   "source": [
    "mu = 0.5\n",
    "epsilon = np.arange(0,0.5,0.01)\n",
    "\n",
    "mu_plus_epsilon = mu + epsilon\n",
    "mu_minus_epsilon = mu - epsilon"
   ]
  },
  {
   "cell_type": "markdown",
   "metadata": {},
   "source": [
    "v_1"
   ]
  },
  {
   "cell_type": "code",
   "execution_count": 161,
   "metadata": {},
   "outputs": [
    {
     "data": {
      "image/png": "[encoded data removed]",
      "text/plain": [
       "<matplotlib.figure.Figure at 0x11367f128>"
      ]
     },
     "metadata": {},
     "output_type": "display_data"
    }
   ],
   "source": [
    "empirical_probability = [sum(np.logical_or(v_1_samples > mu_plus_epsilon[i] \\\n",
    "                                           , v_1_samples < mu_minus_epsilon[i] ) \\\n",
    "                            )/10**5 for i in range(len(erro))]\n",
    "\n",
    "\n",
    "hoeﬀding_bound = [2*math.exp(-2*(i**2) * 10) for i in epsilon]\n",
    "\n",
    "\n",
    "\n",
    "#plotting\n",
    "plt.plot(epsilon, empirical_probability,'b') # plotting t,a separately \n",
    "plt.plot(epsilon, hoeﬀding_bound,'r') # plotting t,a separately \n",
    "plt.ylabel('probability')\n",
    "plt.xlabel('epsilon')\n",
    "plt.show()"
   ]
  },
  {
   "cell_type": "markdown",
   "metadata": {},
   "source": [
    "v_rand"
   ]
  },
  {
   "cell_type": "code",
   "execution_count": 162,
   "metadata": {},
   "outputs": [
    {
     "data": {
      "image/png": "[encoded data removed]",
      "text/plain": [
       "<matplotlib.figure.Figure at 0x11412edd8>"
      ]
     },
     "metadata": {},
     "output_type": "display_data"
    }
   ],
   "source": [
    "empirical_probability = [sum(np.logical_or(v_rand_samples > mu_plus_epsilon[i] \\\n",
    "                                           , v_rand_samples < mu_minus_epsilon[i] ) \\\n",
    "                            )/samples for i in range(len(erro))]\n",
    "\n",
    "\n",
    "hoeﬀding_bound = [2*math.exp(-2*(i**2) * 10) for i in epsilon]\n",
    "\n",
    "\n",
    "\n",
    "#plotting\n",
    "plt.plot(epsilon, empirical_probability,'b') # plotting t,a separately \n",
    "plt.plot(epsilon, hoeﬀding_bound,'r') # plotting t,a separately \n",
    "plt.ylabel('probability')\n",
    "plt.xlabel('epsilon')\n",
    "plt.show()"
   ]
  },
  {
   "cell_type": "markdown",
   "metadata": {},
   "source": [
    "v_min"
   ]
  },
  {
   "cell_type": "code",
   "execution_count": 163,
   "metadata": {},
   "outputs": [
    {
     "data": {
      "image/png": "[encoded data removed]",
      "text/plain": [
       "<matplotlib.figure.Figure at 0x113e87400>"
      ]
     },
     "metadata": {},
     "output_type": "display_data"
    }
   ],
   "source": [
    "empirical_probability = [sum(np.logical_or(v_min_samples > mu_plus_epsilon[i] \\\n",
    "                                           , v_min_samples < mu_minus_epsilon[i] ) \\\n",
    "                            )/samples for i in range(len(erro))]\n",
    "\n",
    "\n",
    "hoeﬀding_bound = [2*math.exp(-2*(i**2) * 10) for i in epsilon]\n",
    "\n",
    "\n",
    "\n",
    "#plotting\n",
    "plt.plot(epsilon, empirical_probability,'b') # plotting t,a separately \n",
    "plt.plot(epsilon, hoeﬀding_bound,'r') # plotting t,a separately \n",
    "plt.ylabel('probability')\n",
    "plt.xlabel('epsilon')\n",
    "plt.show()"
   ]
  },
  {
   "cell_type": "markdown",
   "metadata": {
    "collapsed": true
   },
   "source": [
    "## Error and Noise"
   ]
  },
  {
   "cell_type": "markdown",
   "metadata": {},
   "source": [
    "### <font color=firebrick> Ex.3 </font>"
   ]
  },
  {
   "cell_type": "markdown",
   "metadata": {},
   "source": [
    "\n",
    "\\begin{align*}\n",
    "    E_{out}[h(x)]& = E[ \\mathbb{1}_{ \\{h(x) \\neq y \\} } ] \\\\\n",
    "                    & = P[ h(x) \\neq y ] \\\\\n",
    "                    & = P[ h(x) \\neq f(x) \\ \\cap \\ f(x) = y] \\ + \\ P[ h(x) = f(x) \\ \\cap \\ f(x) \\neq y] \\\\\n",
    "                    & = P[ h(x) \\neq f(x) ] \\ \\times P[ f(x) = y] \\ + \\ P[ h(x) = f(x) ] \\times P[ f(x) \\neq y] \\\\\n",
    "                    & = \\mu \\lambda + (1-\\mu)(1-\\lambda)\n",
    "\\end{align*}"
   ]
  },
  {
   "cell_type": "markdown",
   "metadata": {},
   "source": [
    "### <font color=firebrick> Ex.4 </font>"
   ]
  },
  {
   "cell_type": "markdown",
   "metadata": {},
   "source": [
    "\n",
    "\\begin{align*}\n",
    "    \\lambda = 0.5 \\quad \\Rightarrow \\quad E_{out}[h(x)]& = \\mu \\lambda + (1-\\mu)(1-\\lambda) \\\\\n",
    "                                                        & = 1 -\\lambda +  (\\underbrace{2\\lambda}_{=1}\\mu - \\mu) \\\\\n",
    "                                                        & = 0.5\n",
    "\\end{align*}"
   ]
  },
  {
   "cell_type": "markdown",
   "metadata": {},
   "source": [
    "## Linear Regression"
   ]
  },
  {
   "cell_type": "markdown",
   "metadata": {},
   "source": [
    "### <font color=firebrick> Ex.5 </font>"
   ]
  },
  {
   "cell_type": "code",
   "execution_count": 242,
   "metadata": {
    "collapsed": true
   },
   "outputs": [],
   "source": [
    "def linear_regression(x, y):\n",
    "    \n",
    "    w = np.linalg.inv(x.T*x)*x.T*y\n",
    "    \n",
    "    return w\n",
    "    "
   ]
  },
  {
   "cell_type": "code",
   "execution_count": 265,
   "metadata": {},
   "outputs": [
    {
     "name": "stderr",
     "output_type": "stream",
     "text": [
      "100%|██████████| 1000/1000 [00:00<00:00, 3656.96it/s]\n"
     ]
    },
    {
     "data": {
      "text/plain": [
       "'Average In Sample Error = 0.024879999999999992'"
      ]
     },
     "execution_count": 265,
     "metadata": {},
     "output_type": "execute_result"
    },
    {
     "data": {
      "image/png": "[encoded data removed]",
      "text/plain": [
       "<matplotlib.figure.Figure at 0x1141cd320>"
      ]
     },
     "metadata": {},
     "output_type": "display_data"
    }
   ],
   "source": [
    "#dimension(d) and sample size(n)\n",
    "d = 2\n",
    "n = 100\n",
    "runs = 1000\n",
    "\n",
    "\n",
    "#run linear regression\n",
    "error_in_sample = []\n",
    "fx_vector = np.empty((runs,d+1))\n",
    "gx_vector = np.empty((runs,d+1))\n",
    "\n",
    "for j in tqdm(range(runs)):\n",
    "    \n",
    "    #classfication line\n",
    "    fx = np.matrix('0;' + str(np.random.uniform(-1,1,)) + ';' + str(np.random.uniform(-1,1)))\n",
    "\n",
    "    #generate sample\n",
    "    x = np.random.uniform(-1,1, [d,n])\n",
    "    x0 = np.ones((1,n))\n",
    "    x = np.matrix(np.vstack((x0, x)))\n",
    "\n",
    "    y = np.matrix(np.sign(fx.T*x))\n",
    "    \n",
    "    #LINEAR REGRESSION\n",
    "    #transpose x and y to use the linear regression function\n",
    "    x = x.T\n",
    "    y = y.T\n",
    "    \n",
    "    #run linear regression\n",
    "    w = linear_regression(x,y)\n",
    "    \n",
    "    y_hat = np.array(np.sign(x * w))\n",
    "    \n",
    "    error_in_sample.append(np.sum(y_hat != y)/n)\n",
    "    \n",
    "    #store weights\n",
    "    fx_vector[j,] = fx.T\n",
    "    gx_vector[j,] = w.T\n",
    "\n",
    "            \n",
    "#show results\n",
    "plt.hist(error_in_sample, normed = True)\n",
    "\n",
    "'Average In Sample Error = {}'.format(sum(error_in_sample)/runs) "
   ]
  },
  {
   "cell_type": "markdown",
   "metadata": {},
   "source": [
    "### <font color=firebrick> Ex.6 </font>"
   ]
  },
  {
   "cell_type": "code",
   "execution_count": 272,
   "metadata": {},
   "outputs": [
    {
     "name": "stderr",
     "output_type": "stream",
     "text": [
      "100%|██████████| 1000/1000 [00:00<00:00, 6304.73it/s]\n"
     ]
    },
    {
     "data": {
      "text/plain": [
       "'Average Out of Sample Error = 0.034362'"
      ]
     },
     "execution_count": 272,
     "metadata": {},
     "output_type": "execute_result"
    },
    {
     "data": {
      "image/png": "[encoded data removed]",
      "text/plain": [
       "<matplotlib.figure.Figure at 0x112f1acc0>"
      ]
     },
     "metadata": {},
     "output_type": "display_data"
    }
   ],
   "source": [
    "#dimension(d) and sample size(n)\n",
    "d = 2\n",
    "n = 1000\n",
    "runs = 1000\n",
    "\n",
    "\n",
    "error_out_sample = []\n",
    "\n",
    "for j in tqdm(range(runs)):\n",
    "    #classfication line\n",
    "    fx = np.matrix(fx_vector[j,]).T\n",
    "\n",
    "    #generate sample\n",
    "    x = np.random.uniform(-1,1, [d,n])\n",
    "    x0 = np.ones((1,n))\n",
    "    x = np.matrix(np.vstack((x0, x)))\n",
    "\n",
    "    y = np.matrix(np.sign(fx.T*x))\n",
    "    \n",
    "    #generate y_hat\n",
    "    gx = np.matrix(gx_vector[j,]).T\n",
    "    \n",
    "    y_hat = np.array(np.sign(x.T * gx))\n",
    "\n",
    "    #calculate out of sample error\n",
    "    error_out_sample.append(np.sum(y_hat.T != y)/n)\n",
    "        \n",
    "#show results\n",
    "plt.hist(error_out_sample, normed = True)\n",
    "\n",
    "'Average Out of Sample Error = {}'.format(sum(error_out_sample)/runs) "
   ]
  },
  {
   "cell_type": "markdown",
   "metadata": {},
   "source": [
    "### <font color=firebrick> Ex.7</font>"
   ]
  },
  {
   "cell_type": "code",
   "execution_count": 273,
   "metadata": {},
   "outputs": [],
   "source": [
    "def perceptron_optimal(w, x, y):\n",
    "    \n",
    "    #randomly select one observation where y_hat != y\n",
    "    k_vector = (np.sign(w.T*x) != y).tolist()[0]\n",
    "    k = random.choice(np.where(k_vector)[0])\n",
    "    \n",
    "    #verify if prediction is equal to the real value\n",
    "\n",
    "    w = w + x[0:x.shape[0],k]*y[0,k]\n",
    "        \n",
    "    return w"
   ]
  },
  {
   "cell_type": "code",
   "execution_count": 281,
   "metadata": {},
   "outputs": [
    {
     "name": "stderr",
     "output_type": "stream",
     "text": [
      "100%|██████████| 10000/10000 [00:04<00:00, 2317.48it/s]\n"
     ]
    },
    {
     "data": {
      "text/plain": [
       "'Average # Steps = 3.9118'"
      ]
     },
     "execution_count": 281,
     "metadata": {},
     "output_type": "execute_result"
    },
    {
     "data": {
      "image/png": "[encoded data removed]",
      "text/plain": [
       "<matplotlib.figure.Figure at 0x111488438>"
      ]
     },
     "metadata": {},
     "output_type": "display_data"
    }
   ],
   "source": [
    "#dimension(d) and sample size(n)\n",
    "d = 2\n",
    "n = 10\n",
    "runs = 10000\n",
    "\n",
    "#set number of steps\n",
    "steps = 5000\n",
    "\n",
    "\n",
    "#run pla\n",
    "multiple_run_steps = []\n",
    "\n",
    "for j in tqdm(range(runs)):\n",
    "    \n",
    "    #classfication line\n",
    "    fx = np.matrix('0;' + str(np.random.uniform(-1,1,)) + ';' + str(np.random.uniform(-1,1)))\n",
    "\n",
    "    #generate sample\n",
    "    x = np.random.uniform(-1,1, [d,n])\n",
    "    x0 = np.ones((1,n))\n",
    "    x = np.matrix(np.vstack((x0, x)))\n",
    "\n",
    "    y = np.matrix(np.sign(fx.T*x))\n",
    "    \n",
    "    w = linear_regression(x.T,y.T)\n",
    "    \n",
    "    if np.matrix.all(y == np.sign(w.T*x)):\n",
    "        multiple_run_steps.append(0)\n",
    "    else:\n",
    "        for i in range(steps):\n",
    "            w = perceptron_optimal(w,x,y)\n",
    "\n",
    "            if np.matrix.all(y == np.sign(w.T*x)):\n",
    "                multiple_run_steps.append(i)\n",
    "\n",
    "                break\n",
    "\n",
    "            \n",
    "#show results\n",
    "plt.hist(multiple_run_steps, normed = True)\n",
    "\n",
    "'Average # Steps = {}'.format(sum(multiple_run_steps)/len(multiple_run_steps)) "
   ]
  },
  {
   "cell_type": "markdown",
   "metadata": {},
   "source": [
    "## Nonlinear Transformation"
   ]
  },
  {
   "cell_type": "markdown",
   "metadata": {},
   "source": [
    "### <font color=firebrick> Ex.8</font>"
   ]
  },
  {
   "cell_type": "code",
   "execution_count": 524,
   "metadata": {},
   "outputs": [
    {
     "name": "stderr",
     "output_type": "stream",
     "text": [
      "100%|██████████| 1000/1000 [00:00<00:00, 1852.71it/s]\n"
     ]
    },
    {
     "data": {
      "text/plain": [
       "'Average In Sample Error = 0.503761000000001'"
      ]
     },
     "execution_count": 524,
     "metadata": {},
     "output_type": "execute_result"
    },
    {
     "data": {
      "image/png": "[encoded data removed]",
      "text/plain": [
       "<matplotlib.figure.Figure at 0x11935aac8>"
      ]
     },
     "metadata": {},
     "output_type": "display_data"
    }
   ],
   "source": [
    "#dimension(d) and sample size(n)\n",
    "d = 2\n",
    "n = 1000\n",
    "runs = 1000\n",
    "\n",
    "#Linear Regression\n",
    "error_in_sample = []\n",
    "\n",
    "for j in tqdm(range(runs)):\n",
    "    \n",
    "    x = np.random.uniform(-1,1, [n,d])\n",
    "    \n",
    "    fx = np.sign( np.sum( x*x , axis = 1) - 0.6 )\n",
    "    \n",
    "    x0 = np.ones((n,1))\n",
    "    x = np.matrix(np.hstack((x0, x)))\n",
    "    \n",
    "    #select 10% random \n",
    "    random_index = np.random.choice(n, size = int(0.1*n), replace = False)\n",
    "    \n",
    "    y = list(fx)\n",
    "    \n",
    "    for i in random_index:\n",
    "        y[i] = -y[i]\n",
    "    \n",
    "    y = np.matrix(y)\n",
    "    y = y.T\n",
    "    \n",
    "    #run linear regression\n",
    "    w = linear_regression(x,y)\n",
    "    \n",
    "    y_hat = np.array(np.sign(x * w))\n",
    "    \n",
    "    error_in_sample.append(np.sum(y_hat != y)/n)\n",
    "\n",
    "#show results\n",
    "plt.hist(error_in_sample, normed = True)\n",
    "\n",
    "'Average In Sample Error = {}'.format(sum(error_in_sample)/runs) "
   ]
  },
  {
   "cell_type": "markdown",
   "metadata": {},
   "source": [
    "Last iteration plotting"
   ]
  },
  {
   "cell_type": "code",
   "execution_count": 529,
   "metadata": {},
   "outputs": [
    {
     "data": {
      "text/plain": [
       "<function matplotlib.pyplot.show>"
      ]
     },
     "execution_count": 529,
     "metadata": {},
     "output_type": "execute_result"
    },
    {
     "data": {
      "image/png": "[encoded data removed]",
      "text/plain": [
       "<matplotlib.figure.Figure at 0x11429e160>"
      ]
     },
     "metadata": {},
     "output_type": "display_data"
    }
   ],
   "source": [
    "x = x.T\n",
    "\n",
    "x1_pos = []\n",
    "x2_pos = []\n",
    "\n",
    "x1_neg = []\n",
    "x2_neg = []\n",
    "\n",
    "for i,valor in enumerate(y):\n",
    "    if valor == 1:\n",
    "        x1_pos.append(x[1,i])\n",
    "        x2_pos.append(x[2,i])\n",
    "    else:\n",
    "        x1_neg.append(x[1,i])\n",
    "        x2_neg.append(x[2,i])       \n",
    "\n",
    "plt.scatter(x1_pos, x2_pos, marker='+')\n",
    "plt.scatter(x1_neg, x2_neg, marker='o')\n",
    "\n",
    "plt.show"
   ]
  },
  {
   "cell_type": "markdown",
   "metadata": {},
   "source": [
    "### <font color=firebrick> Ex.9</font>"
   ]
  },
  {
   "cell_type": "code",
   "execution_count": 605,
   "metadata": {},
   "outputs": [
    {
     "name": "stderr",
     "output_type": "stream",
     "text": [
      "100%|██████████| 1000/1000 [00:00<00:00, 1904.86it/s]\n"
     ]
    },
    {
     "data": {
      "text/plain": [
       "'Average In Sample Error = 0.12415099999999991'"
      ]
     },
     "execution_count": 605,
     "metadata": {},
     "output_type": "execute_result"
    },
    {
     "data": {
      "image/png": "[encoded data removed]",
      "text/plain": [
       "<matplotlib.figure.Figure at 0x1118b3160>"
      ]
     },
     "metadata": {},
     "output_type": "display_data"
    }
   ],
   "source": [
    "#dimension(d) and sample size(n)\n",
    "d = 2\n",
    "n = 1000\n",
    "runs = 1000\n",
    "\n",
    "#Linear Regression\n",
    "error_in_sample = []\n",
    "gx_vector = np.empty((runs,d+4))\n",
    "\n",
    "\n",
    "for j in tqdm(range(runs)):\n",
    "    \n",
    "    x = np.random.uniform(-1,1, [n,d])\n",
    "    \n",
    "    fx = np.sign( np.sum( x*x , axis = 1) - 0.6 )\n",
    "    \n",
    "    x1_x2 = np.array(x[:,0] * x[:,1])\n",
    "    x1_x2 = np.array(np.matrix(np.array(x1_x2))).T #gambiarra para transformar numa array com shape (n,1)\n",
    "    \n",
    "    x_2 = x*x\n",
    "    \n",
    "    x0 = np.ones((n,1))\n",
    "    x = np.matrix(np.hstack((x0, x, x1_x2, x_2)))\n",
    "\n",
    "    \n",
    "    #select 10% random \n",
    "    random_index = np.random.choice(n, size = int(0.1*n), replace = False)\n",
    "    \n",
    "    y = list(fx)\n",
    "    \n",
    "    for i in random_index:\n",
    "        y[i] = -y[i]\n",
    "    \n",
    "    y = np.matrix(y)\n",
    "    y = y.T\n",
    "    \n",
    "    #run linear regression\n",
    "    w = linear_regression(x,y)\n",
    "    \n",
    "    y_hat = np.array(np.sign(x * w))\n",
    "    \n",
    "    #store results\n",
    "    gx_vector[j,] = w.T\n",
    "    error_in_sample.append(np.sum(y_hat != y)/n)\n",
    "\n",
    "#show results\n",
    "plt.hist(error_in_sample, normed = True)\n",
    "\n",
    "'Average In Sample Error = {}'.format(sum(error_in_sample)/runs) "
   ]
  },
  {
   "cell_type": "code",
   "execution_count": 606,
   "metadata": {},
   "outputs": [
    {
     "data": {
      "text/plain": [
       "'Average Weights = [ -9.90557221e-01  -1.02473948e-04   3.28525022e-04   1.38195315e-03\\n   1.55566380e+00   1.55541306e+00]'"
      ]
     },
     "execution_count": 606,
     "metadata": {},
     "output_type": "execute_result"
    }
   ],
   "source": [
    "w_weighted = np.sum(gx_vector, axis = 0)/runs\n",
    "'Average Weights = {}'.format(w_weighted)"
   ]
  },
  {
   "cell_type": "code",
   "execution_count": 607,
   "metadata": {},
   "outputs": [
    {
     "name": "stdout",
     "output_type": "stream",
     "text": [
      "A: 0.967\n",
      "B: 0.673\n",
      "C: 0.636\n",
      "D: 0.636\n",
      "E: 0.56\n"
     ]
    }
   ],
   "source": [
    "w_a = np.matrix('-1, -0.05, 0.08, 0.13, 1.5, 1.5')\n",
    "w_b = np.matrix('-1, -0.05, 0.08, 0.13, 1.5, 15')\n",
    "w_c = np.matrix('-1, -0.05, 0.08, 0.13, 15, 1.5')\n",
    "w_d = np.matrix('-1, -1.5, 0.08, 0.13, 0.05, 0.05')\n",
    "w_e = np.matrix('-1, -0.05, 0.08, 1.5, 0.15, 0.15')\n",
    "\n",
    "print('A: {}'.format(np.sum(np.sign(x*np.matrix(w_weighted).T) == np.sign(x*w_a.T))/n))\n",
    "print('B: {}'.format(np.sum(np.sign(x*np.matrix(w_weighted).T) == np.sign(x*w_b.T))/n))\n",
    "print('C: {}'.format(np.sum(np.sign(x*np.matrix(w_weighted).T) == np.sign(x*w_c.T))/n))\n",
    "print('D: {}'.format(np.sum(np.sign(x*np.matrix(w_weighted).T) == np.sign(x*w_d.T))/n))\n",
    "print('E: {}'.format(np.sum(np.sign(x*np.matrix(w_weighted).T) == np.sign(x*w_e.T))/n))"
   ]
  },
  {
   "cell_type": "markdown",
   "metadata": {},
   "source": [
    "### <font color=firebrick> Ex.10</font>"
   ]
  },
  {
   "cell_type": "code",
   "execution_count": 608,
   "metadata": {},
   "outputs": [
    {
     "name": "stderr",
     "output_type": "stream",
     "text": [
      "100%|██████████| 1000/1000 [00:00<00:00, 2392.41it/s]\n"
     ]
    },
    {
     "data": {
      "text/plain": [
       "'Average Out of Sample Error = 0.12312399999999989'"
      ]
     },
     "execution_count": 608,
     "metadata": {},
     "output_type": "execute_result"
    },
    {
     "data": {
      "image/png": "[encoded data removed]",
      "text/plain": [
       "<matplotlib.figure.Figure at 0x1191806d8>"
      ]
     },
     "metadata": {},
     "output_type": "display_data"
    }
   ],
   "source": [
    "#dimension(d) and sample size(n)\n",
    "d = 2\n",
    "n = 1000\n",
    "runs = 1000\n",
    "\n",
    "#Linear Regression\n",
    "error_out_sample = []\n",
    "\n",
    "for j in tqdm(range(runs)):\n",
    "    \n",
    "    x = np.random.uniform(-1,1, [n,d])\n",
    "    \n",
    "    fx = np.sign( np.sum( x*x , axis = 1) - 0.6 )\n",
    "    \n",
    "    x1_x2 = np.array(x[:,0] * x[:,1])\n",
    "    x1_x2 = np.array(np.matrix(np.array(x1_x2))).T #gambiarra para transformar numa array com shape (n,1)\n",
    "    \n",
    "    x_2 = x*x\n",
    "    \n",
    "    x0 = np.ones((n,1))\n",
    "    x = np.matrix(np.hstack((x0, x, x1_x2, x_2)))\n",
    "\n",
    "    \n",
    "    #select 10% random \n",
    "    random_index = np.random.choice(n, size = int(0.1*n), replace = False)\n",
    "    \n",
    "    y = list(fx)\n",
    "    \n",
    "    for i in random_index:\n",
    "        y[i] = -y[i]\n",
    "    \n",
    "    y = np.matrix(y)\n",
    "    y = y.T\n",
    "    \n",
    "    #run linear regression    \n",
    "    gx = np.matrix(w_weighted).T\n",
    "    y_hat = np.array(np.sign(x * gx))\n",
    "    \n",
    "    #store results\n",
    "    error_out_sample.append(np.sum(y_hat != y)/n)\n",
    "\n",
    "#show results\n",
    "plt.hist(error_out_sample, normed = True)\n",
    "\n",
    "'Average Out of Sample Error = {}'.format(sum(error_out_sample)/runs) "
   ]
  },
  {
   "cell_type": "code",
   "execution_count": null,
   "metadata": {},
   "outputs": [],
   "source": []
  },
  {
   "cell_type": "code",
   "execution_count": null,
   "metadata": {
    "collapsed": true
   },
   "outputs": [],
   "source": []
  }
 ],
 "metadata": {
  "kernelspec": {
   "display_name": "Python 3",
   "language": "python",
   "name": "python3"
  },
  "language_info": {
   "codemirror_mode": {
    "name": "ipython",
    "version": 3
   },
   "file_extension": ".py",
   "mimetype": "text/x-python",
   "name": "python",
   "nbconvert_exporter": "python",
   "pygments_lexer": "ipython3",
   "version": "3.6.2"
  }
 },
 "nbformat": 4,
 "nbformat_minor": 2
}
