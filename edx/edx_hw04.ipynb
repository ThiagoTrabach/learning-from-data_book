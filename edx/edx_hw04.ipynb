{
 "cells": [
  {
   "cell_type": "markdown",
   "metadata": {},
   "source": [
    "# Homework #4"
   ]
  },
  {
   "cell_type": "code",
   "execution_count": 64,
   "metadata": {
    "collapsed": true
   },
   "outputs": [],
   "source": [
    "from scipy import stats\n",
    "import numpy as np\n",
    "import matplotlib.pyplot as plt\n",
    "import seaborn as sns\n",
    "import random\n",
    "import math\n",
    "from tqdm import tqdm\n",
    "import pprint\n",
    "from statistics import mean\n",
    "import decimal\n",
    "import scipy.integrate as integrate\n",
    "\n",
    "%matplotlib inline"
   ]
  },
  {
   "cell_type": "markdown",
   "metadata": {},
   "source": [
    "## Generalization Error"
   ]
  },
  {
   "cell_type": "markdown",
   "metadata": {},
   "source": [
    "### <font color=firebrick> Ex.1 </font>"
   ]
  },
  {
   "cell_type": "markdown",
   "metadata": {},
   "source": [
    "$$ N \\geq \\frac{8}{\\epsilon^2} \\ln \\bigg [ \\frac{4((2N)^{d_{VC}} + 1)}{\\delta} \\bigg ] $$"
   ]
  },
  {
   "cell_type": "code",
   "execution_count": 44,
   "metadata": {},
   "outputs": [
    {
     "name": "stdout",
     "output_type": "stream",
     "text": [
      "N = 452956.8647230992\n"
     ]
    }
   ],
   "source": [
    "dvc = 10\n",
    "epsilon = 0.05\n",
    "delta = 0.05\n",
    "N = 1000\n",
    "\n",
    "while N < (8/epsilon**2) * math.log((4*((2*N)**dvc + 1))/delta):\n",
    "    \n",
    "    N = (8/epsilon**2) * math.log((4*((2*N)**dvc + 1))/delta)\n",
    "    \n",
    "print('N = {}'.format(N))"
   ]
  },
  {
   "cell_type": "markdown",
   "metadata": {},
   "source": [
    "### <font color=firebrick> Ex.2 </font>"
   ]
  },
  {
   "cell_type": "code",
   "execution_count": 45,
   "metadata": {
    "collapsed": true
   },
   "outputs": [],
   "source": [
    "dvc = 50\n",
    "delta = 0.05\n",
    "N = 10000"
   ]
  },
  {
   "cell_type": "markdown",
   "metadata": {},
   "source": [
    "Original VC Bound"
   ]
  },
  {
   "cell_type": "code",
   "execution_count": 46,
   "metadata": {},
   "outputs": [
    {
     "data": {
      "text/plain": [
       "0.39964512340918423"
      ]
     },
     "execution_count": 46,
     "metadata": {},
     "output_type": "execute_result"
    }
   ],
   "source": [
    "(8/N) * math.log((4*((2*N)**dvc + 1))/delta)"
   ]
  },
  {
   "cell_type": "markdown",
   "metadata": {},
   "source": [
    "Rademacher Penalty Bound"
   ]
  },
  {
   "cell_type": "code",
   "execution_count": 47,
   "metadata": {},
   "outputs": [
    {
     "data": {
      "text/plain": [
       "0.33130878596163948"
      ]
     },
     "execution_count": 47,
     "metadata": {},
     "output_type": "execute_result"
    }
   ],
   "source": [
    "np.sqrt( 2 * math.log( 2 * N * (N**dvc + 1))/N ) + np.sqrt( (2/N) * math.log(1/delta) ) + 1/N "
   ]
  },
  {
   "cell_type": "markdown",
   "metadata": {},
   "source": [
    "Parondo and Van den Broek"
   ]
  },
  {
   "cell_type": "code",
   "execution_count": 50,
   "metadata": {},
   "outputs": [
    {
     "data": {
      "text/plain": [
       "0.22369829368078561"
      ]
     },
     "execution_count": 50,
     "metadata": {},
     "output_type": "execute_result"
    }
   ],
   "source": [
    "epsilon = 0\n",
    "\n",
    "while epsilon < np.sqrt( (1/N) * (2 * epsilon + math.log(6*((2*N)**dvc + 1)/delta))):\n",
    "    epsilon = np.sqrt( (1/N) * (2 * epsilon + math.log(6*((2*N)**dvc + 1)/delta)))\n",
    "    \n",
    "epsilon"
   ]
  },
  {
   "cell_type": "markdown",
   "metadata": {},
   "source": [
    "Devroye"
   ]
  },
  {
   "cell_type": "code",
   "execution_count": 71,
   "metadata": {},
   "outputs": [
    {
     "data": {
      "text/plain": [
       "0.21522804980824667"
      ]
     },
     "execution_count": 71,
     "metadata": {},
     "output_type": "execute_result"
    }
   ],
   "source": [
    "epsilon = 0\n",
    "\n",
    "while epsilon < math.sqrt( (1/(2*N)) * (4*epsilon*(1 + epsilon) + math.log((4*((N**2)**dvc + 1))) - math.log(delta))):\n",
    "    epsilon  = math.sqrt( (1/(2*N)) * (4*epsilon*(1 + epsilon) + math.log((4*((N**2)**dvc + 1))) - math.log(delta)))\n",
    "\n",
    "epsilon"
   ]
  },
  {
   "cell_type": "markdown",
   "metadata": {},
   "source": [
    "### <font color=firebrick> Ex.3 </font>"
   ]
  },
  {
   "cell_type": "code",
   "execution_count": 72,
   "metadata": {
    "collapsed": true
   },
   "outputs": [],
   "source": [
    "dvc = 50\n",
    "delta = 0.05\n",
    "N = 5"
   ]
  },
  {
   "cell_type": "markdown",
   "metadata": {},
   "source": [
    "Original VC Bound"
   ]
  },
  {
   "cell_type": "code",
   "execution_count": 73,
   "metadata": {},
   "outputs": [
    {
     "data": {
      "text/plain": [
       "191.21805005500187"
      ]
     },
     "execution_count": 73,
     "metadata": {},
     "output_type": "execute_result"
    }
   ],
   "source": [
    "(8/N) * math.log((4*((2*N)**dvc + 1))/delta)"
   ]
  },
  {
   "cell_type": "markdown",
   "metadata": {},
   "source": [
    "Rademacher Penalty Bound"
   ]
  },
  {
   "cell_type": "code",
   "execution_count": 74,
   "metadata": {},
   "outputs": [
    {
     "data": {
      "text/plain": [
       "7.0487765641836848"
      ]
     },
     "execution_count": 74,
     "metadata": {},
     "output_type": "execute_result"
    }
   ],
   "source": [
    "np.sqrt( 2 * math.log( 2 * N * (N**dvc + 1))/N ) + np.sqrt( (2/N) * math.log(1/delta) ) + 1/N "
   ]
  },
  {
   "cell_type": "markdown",
   "metadata": {},
   "source": [
    "Parondo and Van den Broek"
   ]
  },
  {
   "cell_type": "code",
   "execution_count": 75,
   "metadata": {},
   "outputs": [
    {
     "data": {
      "text/plain": [
       "5.1013619819899922"
      ]
     },
     "execution_count": 75,
     "metadata": {},
     "output_type": "execute_result"
    }
   ],
   "source": [
    "epsilon = 0\n",
    "\n",
    "while epsilon < np.sqrt( (1/N) * (2 * epsilon + math.log(6*((2*N)**dvc + 1)/delta))):\n",
    "    epsilon = np.sqrt( (1/N) * (2 * epsilon + math.log(6*((2*N)**dvc + 1)/delta)))\n",
    "    \n",
    "epsilon"
   ]
  },
  {
   "cell_type": "markdown",
   "metadata": {},
   "source": [
    "Devroye"
   ]
  },
  {
   "cell_type": "code",
   "execution_count": 76,
   "metadata": {},
   "outputs": [
    {
     "data": {
      "text/plain": [
       "5.593125543182669"
      ]
     },
     "execution_count": 76,
     "metadata": {},
     "output_type": "execute_result"
    }
   ],
   "source": [
    "epsilon = 0\n",
    "\n",
    "while epsilon < math.sqrt( (1/(2*N)) * (4*epsilon*(1 + epsilon) + math.log((4*((N**2)**dvc + 1))) - math.log(delta))):\n",
    "    epsilon  = math.sqrt( (1/(2*N)) * (4*epsilon*(1 + epsilon) + math.log((4*((N**2)**dvc + 1))) - math.log(delta)))\n",
    "\n",
    "epsilon"
   ]
  },
  {
   "cell_type": "markdown",
   "metadata": {
    "collapsed": true
   },
   "source": [
    "## Bias and Variance"
   ]
  },
  {
   "cell_type": "markdown",
   "metadata": {},
   "source": [
    "### <font color=firebrick> Ex.4 </font>"
   ]
  },
  {
   "cell_type": "code",
   "execution_count": 2,
   "metadata": {
    "collapsed": true
   },
   "outputs": [],
   "source": [
    "def linear_regression(x, y):\n",
    "    \n",
    "    w = np.linalg.inv(x.T*x)*x.T*y\n",
    "    \n",
    "    return w"
   ]
  },
  {
   "cell_type": "code",
   "execution_count": 3,
   "metadata": {},
   "outputs": [
    {
     "name": "stderr",
     "output_type": "stream",
     "text": [
      "100%|██████████| 10000/10000 [00:00<00:00, 21078.28it/s]"
     ]
    },
    {
     "name": "stdout",
     "output_type": "stream",
     "text": [
      "gBar: 1.4247517533607423\n"
     ]
    },
    {
     "name": "stderr",
     "output_type": "stream",
     "text": [
      "\n"
     ]
    }
   ],
   "source": [
    "d = 1\n",
    "n = 2\n",
    "samples = 10000\n",
    "\n",
    "g = []\n",
    "\n",
    "for i in tqdm(range(samples)):\n",
    "    x = np.matrix(np.random.uniform(-1,1, [n,d]))\n",
    "\n",
    "    y = np.matrix(np.sin(math.pi*x))\n",
    "    \n",
    "    \n",
    "    g.append(linear_regression(x,y))\n",
    "\n",
    "print('gBar: {}'.format(np.sum(g)/samples))"
   ]
  },
  {
   "cell_type": "markdown",
   "metadata": {},
   "source": [
    "### <font color=firebrick> Ex.5 </font>"
   ]
  },
  {
   "cell_type": "markdown",
   "metadata": {},
   "source": [
    "Finding gBar"
   ]
  },
  {
   "cell_type": "code",
   "execution_count": 15,
   "metadata": {},
   "outputs": [
    {
     "name": "stderr",
     "output_type": "stream",
     "text": [
      "100%|██████████| 100000/100000 [00:04<00:00, 21649.13it/s]\n"
     ]
    },
    {
     "name": "stdout",
     "output_type": "stream",
     "text": [
      "gBar: 1.4291773419557003\n"
     ]
    }
   ],
   "source": [
    "d = 1\n",
    "n = 2\n",
    "samples = 100000\n",
    "\n",
    "g = []\n",
    "\n",
    "for i in tqdm(range(samples)):\n",
    "    x = np.matrix(np.random.uniform(-1,1, [n,d]))\n",
    "\n",
    "    y = np.matrix(np.sin(math.pi*x))\n",
    "    \n",
    "    g.append(linear_regression(x,y))\n",
    "\n",
    "gBar = np.sum(g)/samples\n",
    "print('gBar: {}'.format(gBar))"
   ]
  },
  {
   "cell_type": "markdown",
   "metadata": {},
   "source": [
    "Bias calculated using empirical distribution"
   ]
  },
  {
   "cell_type": "code",
   "execution_count": 16,
   "metadata": {},
   "outputs": [
    {
     "name": "stdout",
     "output_type": "stream",
     "text": [
      "Bias: 0.27374349262272335\n"
     ]
    }
   ],
   "source": [
    "d = 1\n",
    "n = 100000\n",
    "\n",
    "x = np.matrix(np.random.uniform(-1,1, [n,d]))\n",
    "\n",
    "y = np.matrix(np.sin(math.pi*x))\n",
    "\n",
    "print('Bias: {}'.format(np.sum(np.array(x*gBar - y)**2)/n))"
   ]
  },
  {
   "cell_type": "markdown",
   "metadata": {},
   "source": [
    "Bias calculated using population distribution"
   ]
  },
  {
   "cell_type": "code",
   "execution_count": 17,
   "metadata": {},
   "outputs": [
    {
     "data": {
      "text/plain": [
       "(0.2710067374777774, 3.8012183631080777e-10)"
      ]
     },
     "execution_count": 17,
     "metadata": {},
     "output_type": "execute_result"
    }
   ],
   "source": [
    "integrate.quad(lambda x: (x*gBar - np.sin(math.pi*x))**2*1/2, -1, 1)"
   ]
  },
  {
   "cell_type": "markdown",
   "metadata": {},
   "source": [
    "### <font color=firebrick> Ex.6 </font>"
   ]
  },
  {
   "cell_type": "code",
   "execution_count": 18,
   "metadata": {},
   "outputs": [
    {
     "name": "stderr",
     "output_type": "stream",
     "text": [
      "100%|██████████| 100000/100000 [00:36<00:00, 2720.41it/s]"
     ]
    },
    {
     "name": "stdout",
     "output_type": "stream",
     "text": [
      "Variance: 0.2362947858508126\n"
     ]
    },
    {
     "name": "stderr",
     "output_type": "stream",
     "text": [
      "\n"
     ]
    }
   ],
   "source": [
    "d = 1\n",
    "n = 100000\n",
    "\n",
    "x = np.matrix(np.random.uniform(-1,1, [n,d]))\n",
    "\n",
    "var = []\n",
    "\n",
    "for i in tqdm(range(samples)):\n",
    "    var.append(np.sum(np.array(x*g[i] - x*gBar)**2)/n)\n",
    "    \n",
    "print('Variance: {}'.format(np.sum(var)/samples))"
   ]
  },
  {
   "cell_type": "markdown",
   "metadata": {},
   "source": [
    "### <font color=firebrick> Ex.7</font>"
   ]
  },
  {
   "cell_type": "markdown",
   "metadata": {},
   "source": [
    "** $\\bullet$ h(x) = b**"
   ]
  },
  {
   "cell_type": "code",
   "execution_count": 71,
   "metadata": {},
   "outputs": [
    {
     "name": "stderr",
     "output_type": "stream",
     "text": [
      "100%|██████████| 100000/100000 [00:05<00:00, 17049.32it/s]\n"
     ]
    },
    {
     "name": "stdout",
     "output_type": "stream",
     "text": [
      "gBar: -0.0007588748235065911\n"
     ]
    }
   ],
   "source": [
    "d = 1\n",
    "n = 2\n",
    "samples = 100000\n",
    "\n",
    "g = []\n",
    "\n",
    "for i in tqdm(range(samples)):\n",
    "    x = np.matrix(np.random.uniform(-1,1, [n,d]))\n",
    "    y = np.matrix(np.sin(math.pi*x))\n",
    "    \n",
    "    x = np.matrix(np.ones([n,d])) #change sampled x for the intercept (1)\n",
    "    \n",
    "    g.append(linear_regression(x,y))\n",
    "\n",
    "gBar = np.sum(g)/samples\n",
    "print('gBar: {}'.format(gBar))"
   ]
  },
  {
   "cell_type": "code",
   "execution_count": 76,
   "metadata": {},
   "outputs": [
    {
     "name": "stderr",
     "output_type": "stream",
     "text": [
      "  0%|          | 178/100000 [00:00<00:56, 1775.06it/s]"
     ]
    },
    {
     "name": "stdout",
     "output_type": "stream",
     "text": [
      "Bias: 0.49950575453271034\n"
     ]
    },
    {
     "name": "stderr",
     "output_type": "stream",
     "text": [
      "100%|██████████| 100000/100000 [00:33<00:00, 2961.83it/s]"
     ]
    },
    {
     "name": "stdout",
     "output_type": "stream",
     "text": [
      "Variance: 0.25142363619299185\n",
      "Out of Sample Error: 0.7509293907257022\n"
     ]
    },
    {
     "name": "stderr",
     "output_type": "stream",
     "text": [
      "\n"
     ]
    }
   ],
   "source": [
    "####\n",
    "# Creating Sample\n",
    "\n",
    "d = 1\n",
    "n = 100000\n",
    "\n",
    "x = np.matrix(np.random.uniform(-1,1, [n,d]))\n",
    "y = np.matrix(np.sin(math.pi*x))\n",
    "\n",
    "# Adpating x\n",
    "x = np.matrix(np.ones([n,d]))\n",
    " \n",
    "\n",
    "###\n",
    "# Calculating Bias\n",
    "\n",
    "bias = np.sum(np.array(x*gBar - y)**2)/n\n",
    "print('Bias: {}'.format(bias))\n",
    "\n",
    "\n",
    "###\n",
    "# Calculating Variance\n",
    "\n",
    "var = []\n",
    "\n",
    "for i in tqdm(range(samples)):\n",
    "    var.append(np.sum(np.array(x*g[i] - x*gBar)**2)/n)\n",
    "\n",
    "variance = np.sum(var)/samples\n",
    "print('Variance: {}'.format(variance))\n",
    "\n",
    "\n",
    "\n",
    "#Out of Sample Error\n",
    "print('Out of Sample Error: {}'.format(bias + variance))"
   ]
  },
  {
   "cell_type": "markdown",
   "metadata": {},
   "source": [
    "** $\\bullet$ h(x) = ax**"
   ]
  },
  {
   "cell_type": "code",
   "execution_count": 78,
   "metadata": {},
   "outputs": [
    {
     "name": "stderr",
     "output_type": "stream",
     "text": [
      "100%|██████████| 100000/100000 [00:05<00:00, 18979.10it/s]"
     ]
    },
    {
     "name": "stdout",
     "output_type": "stream",
     "text": [
      "gBar: 1.428454076580986\n"
     ]
    },
    {
     "name": "stderr",
     "output_type": "stream",
     "text": [
      "\n"
     ]
    }
   ],
   "source": [
    "d = 1\n",
    "n = 2\n",
    "samples = 100000\n",
    "\n",
    "g = []\n",
    "\n",
    "for i in tqdm(range(samples)):\n",
    "    x = np.matrix(np.random.uniform(-1,1, [n,d]))\n",
    "\n",
    "    y = np.matrix(np.sin(math.pi*x))\n",
    "    \n",
    "    g.append(linear_regression(x,y))\n",
    "\n",
    "gBar = np.sum(g)/samples\n",
    "print('gBar: {}'.format(gBar))"
   ]
  },
  {
   "cell_type": "code",
   "execution_count": 79,
   "metadata": {},
   "outputs": [
    {
     "name": "stderr",
     "output_type": "stream",
     "text": [
      "  0%|          | 224/100000 [00:00<00:44, 2236.29it/s]"
     ]
    },
    {
     "name": "stdout",
     "output_type": "stream",
     "text": [
      "Bias: 0.27064799300588377\n"
     ]
    },
    {
     "name": "stderr",
     "output_type": "stream",
     "text": [
      "100%|██████████| 100000/100000 [00:38<00:00, 2605.51it/s]"
     ]
    },
    {
     "name": "stdout",
     "output_type": "stream",
     "text": [
      "Variance: 0.23639043215075814\n",
      "Out of Sample Error: 0.5070384251566419\n"
     ]
    },
    {
     "name": "stderr",
     "output_type": "stream",
     "text": [
      "\n"
     ]
    }
   ],
   "source": [
    "####\n",
    "# Creating Sample\n",
    "\n",
    "d = 1\n",
    "n = 100000\n",
    "\n",
    "x = np.matrix(np.random.uniform(-1,1, [n,d]))\n",
    "y = np.matrix(np.sin(math.pi*x))\n",
    "\n",
    "\n",
    "\n",
    "###\n",
    "# Calculating Bias\n",
    "\n",
    "bias = np.sum(np.array(x*gBar - y)**2)/n\n",
    "print('Bias: {}'.format(bias))\n",
    "\n",
    "\n",
    "###\n",
    "# Calculating Variance\n",
    "\n",
    "var = []\n",
    "\n",
    "for i in tqdm(range(samples)):\n",
    "    var.append(np.sum(np.array(x*g[i] - x*gBar)**2)/n)\n",
    "\n",
    "variance = np.sum(var)/samples\n",
    "print('Variance: {}'.format(variance))\n",
    "\n",
    "\n",
    "\n",
    "#Out of Sample Error\n",
    "print('Out of Sample Error: {}'.format(bias + variance))"
   ]
  },
  {
   "cell_type": "markdown",
   "metadata": {},
   "source": [
    "**$\\bullet$ h(x) = ax + b**"
   ]
  },
  {
   "cell_type": "code",
   "execution_count": 80,
   "metadata": {},
   "outputs": [
    {
     "name": "stderr",
     "output_type": "stream",
     "text": [
      "100%|██████████| 100000/100000 [00:07<00:00, 12980.06it/s]\n"
     ]
    },
    {
     "name": "stdout",
     "output_type": "stream",
     "text": [
      "gBar: [[-0.00100538]\n",
      " [ 0.78112806]]\n"
     ]
    }
   ],
   "source": [
    "d = 1\n",
    "n = 2\n",
    "samples = 100000\n",
    "\n",
    "g = []\n",
    "\n",
    "for i in tqdm(range(samples)):\n",
    "    x = np.matrix(np.random.uniform(-1,1, [n,d]))\n",
    "    y = np.matrix(np.sin(math.pi*x))\n",
    "    \n",
    "    # add intercept\n",
    "    x0 = np.matrix(np.ones([n,d]))\n",
    "    x = np.matrix(np.hstack((x0, x)))\n",
    "    \n",
    "    \n",
    "    g.append(linear_regression(x,y))\n",
    "\n",
    "\n",
    "# calculating gBar\n",
    "w0 = 0\n",
    "w1 = 0\n",
    "\n",
    "for i in range(samples):\n",
    "    w0 += g[i][0]\n",
    "    w1 += g[i][1]\n",
    "    \n",
    "gBar =  np.matrix([float(w0/samples), float(w1/samples)])\n",
    "gBar = gBar.T\n",
    "\n",
    "print('gBar: {}'.format(gBar))"
   ]
  },
  {
   "cell_type": "code",
   "execution_count": 84,
   "metadata": {},
   "outputs": [
    {
     "name": "stderr",
     "output_type": "stream",
     "text": [
      "\n",
      "  0%|          | 0/100000 [00:00<?, ?it/s]\u001b[A\n",
      "  0%|          | 117/100000 [00:00<01:25, 1168.52it/s]"
     ]
    },
    {
     "name": "stdout",
     "output_type": "stream",
     "text": [
      "Bias: 0.20654022408594264\n"
     ]
    },
    {
     "name": "stderr",
     "output_type": "stream",
     "text": [
      "\u001b[A\n",
      "  0%|          | 259/100000 [00:00<01:20, 1231.80it/s]\u001b[A\n",
      "  0%|          | 396/100000 [00:00<01:18, 1269.57it/s]\u001b[A\n",
      "  1%|          | 561/100000 [00:00<01:12, 1363.87it/s]\u001b[A\n",
      "  1%|          | 728/100000 [00:00<01:08, 1443.09it/s]\u001b[A\n",
      "  1%|          | 893/100000 [00:00<01:06, 1498.07it/s]\u001b[A\n",
      "  1%|          | 1066/100000 [00:00<01:03, 1560.08it/s]\u001b[A\n",
      "  1%|▏         | 1254/100000 [00:00<01:00, 1643.58it/s]\u001b[A\n",
      "  1%|▏         | 1432/100000 [00:00<00:58, 1681.74it/s]\u001b[A\n",
      "  2%|▏         | 1615/100000 [00:01<00:57, 1722.17it/s]\u001b[A\n",
      "  2%|▏         | 1813/100000 [00:01<00:54, 1789.26it/s]\u001b[A\n",
      "  2%|▏         | 1992/100000 [00:01<00:55, 1777.68it/s]\u001b[A\n",
      "  2%|▏         | 2170/100000 [00:01<00:56, 1731.08it/s]\u001b[A\n",
      "  2%|▏         | 2344/100000 [00:01<00:57, 1711.43it/s]\u001b[A\n",
      "100%|██████████| 100000/100000 [00:55<00:00, 1810.10it/s]"
     ]
    },
    {
     "name": "stdout",
     "output_type": "stream",
     "text": [
      "Variance: 1.6730712956922225\n",
      "Out of Sample Error: 1.879611519778165\n"
     ]
    },
    {
     "name": "stderr",
     "output_type": "stream",
     "text": [
      "\n"
     ]
    }
   ],
   "source": [
    "####\n",
    "# Creating Sample\n",
    "\n",
    "d = 1\n",
    "n = 100000\n",
    "\n",
    "x = np.matrix(np.random.uniform(-1,1, [n,d]))\n",
    "y = np.matrix(np.sin(math.pi*x))\n",
    "\n",
    "# Adpating x\n",
    "x0 = np.matrix(np.ones([n,d]))\n",
    "x = np.matrix(np.hstack((x0, x)))\n",
    "\n",
    "\n",
    "\n",
    "###\n",
    "# Calculating Bias\n",
    "\n",
    "bias = np.sum(np.array(x*gBar - y)**2)/n\n",
    "print('Bias: {}'.format(bias))\n",
    "\n",
    "\n",
    "\n",
    "###\n",
    "# Calculating Variance\n",
    "\n",
    "var = []\n",
    "\n",
    "for i in tqdm(range(samples)):\n",
    "    var.append(np.sum(np.array(x*g[i] - x*gBar)**2)/n)\n",
    "\n",
    "variance = np.sum(var)/samples\n",
    "print('Variance: {}'.format(variance))\n",
    "\n",
    "\n",
    "#Out of Sample Error\n",
    "print('Out of Sample Error: {}'.format(bias + variance))"
   ]
  },
  {
   "cell_type": "markdown",
   "metadata": {},
   "source": [
    "** h(x) = a$x^2$ **"
   ]
  },
  {
   "cell_type": "code",
   "execution_count": 105,
   "metadata": {},
   "outputs": [
    {
     "name": "stderr",
     "output_type": "stream",
     "text": [
      "100%|██████████| 100000/100000 [00:05<00:00, 18970.87it/s]\n"
     ]
    },
    {
     "name": "stdout",
     "output_type": "stream",
     "text": [
      "gBar: 0.01901545153310579\n"
     ]
    }
   ],
   "source": [
    "d = 1\n",
    "n = 2\n",
    "samples = 100000\n",
    "\n",
    "g = []\n",
    "\n",
    "for i in tqdm(range(samples)):\n",
    "    x = np.matrix(np.random.uniform(-1,1, [n,d]))\n",
    "\n",
    "    y = np.matrix(np.sin(math.pi*x))\n",
    "    \n",
    "    # Adapting x\n",
    "    x = np.matrix(np.array(x)*np.array(x))\n",
    "\n",
    "    g.append(linear_regression(x,y))\n",
    "\n",
    "gBar = np.sum(g)/samples\n",
    "print('gBar: {}'.format(gBar))"
   ]
  },
  {
   "cell_type": "code",
   "execution_count": 106,
   "metadata": {},
   "outputs": [
    {
     "name": "stderr",
     "output_type": "stream",
     "text": [
      "  0%|          | 192/100000 [00:00<00:52, 1917.87it/s]"
     ]
    },
    {
     "name": "stdout",
     "output_type": "stream",
     "text": [
      "Bias: 0.49852976795334825\n"
     ]
    },
    {
     "name": "stderr",
     "output_type": "stream",
     "text": [
      "100%|██████████| 100000/100000 [00:35<00:00, 2850.76it/s]"
     ]
    },
    {
     "name": "stdout",
     "output_type": "stream",
     "text": [
      "Variance: 19.83446772332859\n",
      "Out of Sample Error: 20.332997491281937\n"
     ]
    },
    {
     "name": "stderr",
     "output_type": "stream",
     "text": [
      "\n"
     ]
    }
   ],
   "source": [
    "####\n",
    "# Creating Sample\n",
    "d = 1\n",
    "n = 100000\n",
    "\n",
    "x = np.matrix(np.random.uniform(-1,1, [n,d]))\n",
    "y = np.matrix(np.sin(math.pi*x))\n",
    "\n",
    "# Adpating x\n",
    "x = np.matrix(np.array(x)*np.array(x))\n",
    "\n",
    "###\n",
    "# Calculating Bias\n",
    "\n",
    "bias = np.sum(np.array(x*gBar - y)**2)/n\n",
    "print('Bias: {}'.format(bias))\n",
    "\n",
    "\n",
    "###\n",
    "# Calculating Variance\n",
    "\n",
    "var = []\n",
    "\n",
    "for i in tqdm(range(samples)):\n",
    "    var.append(np.sum(np.array(x*g[i] - x*gBar)**2)/n)\n",
    "\n",
    "variance = np.sum(var)/samples\n",
    "print('Variance: {}'.format(variance))\n",
    "\n",
    "\n",
    "\n",
    "#Out of Sample Error\n",
    "print('Out of Sample Error: {}'.format(bias + variance))"
   ]
  },
  {
   "cell_type": "markdown",
   "metadata": {},
   "source": [
    "** h(x) = a$x^2$ + b**"
   ]
  },
  {
   "cell_type": "code",
   "execution_count": 107,
   "metadata": {},
   "outputs": [
    {
     "name": "stderr",
     "output_type": "stream",
     "text": [
      "100%|██████████| 100000/100000 [00:07<00:00, 12990.67it/s]"
     ]
    },
    {
     "name": "stdout",
     "output_type": "stream",
     "text": [
      "gBar: [[ 0.78842012]\n",
      " [-0.59953176]]\n"
     ]
    },
    {
     "name": "stderr",
     "output_type": "stream",
     "text": [
      "\n"
     ]
    }
   ],
   "source": [
    "d = 1\n",
    "n = 2\n",
    "samples = 100000\n",
    "\n",
    "g = []\n",
    "\n",
    "for i in tqdm(range(samples)):\n",
    "    x = np.matrix(np.random.uniform(-1,1, [n,d]))\n",
    "    y = np.matrix(np.sin(math.pi*x))\n",
    "    \n",
    "    # add intercept\n",
    "    x0 = np.matrix(np.ones([n,d]))\n",
    "    x = np.matrix(np.array(x)*np.array(x))\n",
    "    x = np.matrix(np.hstack((x0, x)))\n",
    "    \n",
    "    \n",
    "    g.append(linear_regression(x,y))\n",
    "\n",
    "\n",
    "# calculating gBar\n",
    "w0 = 0\n",
    "w1 = 0\n",
    "\n",
    "for i in range(samples):\n",
    "    w0 += g[i][0]\n",
    "    w1 += g[i][1]\n",
    "    \n",
    "gBar =  np.matrix([float(w0/samples), float(w1/samples)])\n",
    "gBar = gBar.T\n",
    "\n",
    "print('gBar: {}'.format(gBar))"
   ]
  },
  {
   "cell_type": "code",
   "execution_count": 108,
   "metadata": {},
   "outputs": [
    {
     "name": "stderr",
     "output_type": "stream",
     "text": [
      "  0%|          | 150/100000 [00:00<01:06, 1493.22it/s]"
     ]
    },
    {
     "name": "stdout",
     "output_type": "stream",
     "text": [
      "Bias: 0.8830153945742055\n"
     ]
    },
    {
     "name": "stderr",
     "output_type": "stream",
     "text": [
      "100%|██████████| 100000/100000 [00:52<00:00, 1920.67it/s]"
     ]
    },
    {
     "name": "stdout",
     "output_type": "stream",
     "text": [
      "Variance: 67869.50775002352\n",
      "Out of Sample Error: 67870.3907654181\n"
     ]
    },
    {
     "name": "stderr",
     "output_type": "stream",
     "text": [
      "\n"
     ]
    }
   ],
   "source": [
    "####\n",
    "# Creating Sample\n",
    "\n",
    "d = 1\n",
    "n = 100000\n",
    "\n",
    "x = np.matrix(np.random.uniform(-1,1, [n,d]))\n",
    "y = np.matrix(np.sin(math.pi*x))\n",
    "\n",
    "# Adpating x\n",
    "x0 = np.matrix(np.ones([n,d]))\n",
    "x = np.matrix(np.array(x)*np.array(x))\n",
    "x = np.matrix(np.hstack((x0, x)))\n",
    "\n",
    "\n",
    "\n",
    "###\n",
    "# Calculating Bias\n",
    "\n",
    "bias = np.sum(np.array(x*gBar - y)**2)/n\n",
    "print('Bias: {}'.format(bias))\n",
    "\n",
    "\n",
    "\n",
    "###\n",
    "# Calculating Variance\n",
    "\n",
    "var = []\n",
    "\n",
    "for i in tqdm(range(samples)):\n",
    "    var.append(np.sum(np.array(x*g[i] - x*gBar)**2)/n)\n",
    "\n",
    "variance = np.sum(var)/samples\n",
    "print('Variance: {}'.format(variance))\n",
    "\n",
    "\n",
    "#Out of Sample Error\n",
    "print('Out of Sample Error: {}'.format(bias + variance))"
   ]
  }
 ],
 "metadata": {
  "kernelspec": {
   "display_name": "Python 3",
   "language": "python",
   "name": "python3"
  },
  "language_info": {
   "codemirror_mode": {
    "name": "ipython",
    "version": 3
   },
   "file_extension": ".py",
   "mimetype": "text/x-python",
   "name": "python",
   "nbconvert_exporter": "python",
   "pygments_lexer": "ipython3",
   "version": "3.6.2"
  }
 },
 "nbformat": 4,
 "nbformat_minor": 2
}
