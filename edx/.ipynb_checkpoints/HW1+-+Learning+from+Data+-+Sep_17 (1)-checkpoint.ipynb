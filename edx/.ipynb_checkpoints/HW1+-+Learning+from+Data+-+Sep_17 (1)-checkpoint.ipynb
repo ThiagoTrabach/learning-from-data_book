{
 "cells": [
  {
   "cell_type": "code",
   "execution_count": 1,
   "metadata": {
    "collapsed": true
   },
   "outputs": [],
   "source": [
    "import os\n",
    "import numpy as np\n",
    "import pandas as pd\n",
    "import random\n",
    "import scipy"
   ]
  },
  {
   "cell_type": "markdown",
   "metadata": {},
   "source": [
    "## questão 4"
   ]
  },
  {
   "cell_type": "code",
   "execution_count": 2,
   "metadata": {},
   "outputs": [
    {
     "data": {
      "text/plain": [
       "0.00034050628916015635"
      ]
     },
     "execution_count": 2,
     "metadata": {},
     "output_type": "execute_result"
    }
   ],
   "source": [
    "a=round(1-0.55,2)**10\n",
    "a"
   ]
  },
  {
   "cell_type": "code",
   "execution_count": 3,
   "metadata": {},
   "outputs": [
    {
     "data": {
      "text/plain": [
       "'3.405E-04'"
      ]
     },
     "execution_count": 3,
     "metadata": {},
     "output_type": "execute_result"
    }
   ],
   "source": [
    "import decimal\n",
    "'%.3E' % decimal.Decimal(a)"
   ]
  },
  {
   "cell_type": "markdown",
   "metadata": {},
   "source": [
    "## questão 5"
   ]
  },
  {
   "cell_type": "markdown",
   "metadata": {},
   "source": [
    "P(pelo menos 1 $\\nu$ = 0) = 1 - P(todos $\\nu$ $\\neq$ 0) = 1 - $\\prod_{i = 0}^{1000} P(\\nu \\neq 0)$"
   ]
  },
  {
   "cell_type": "markdown",
   "metadata": {},
   "source": [
    "Por outro lado: P($\\nu \\neq$ 0) = 1 -  P($\\nu$ = 0)."
   ]
  },
  {
   "cell_type": "markdown",
   "metadata": {},
   "source": [
    "Onde  P($\\nu$ = 0) já foi encontrado na questão anterior."
   ]
  },
  {
   "cell_type": "code",
   "execution_count": 4,
   "metadata": {},
   "outputs": [
    {
     "data": {
      "text/plain": [
       "0.289"
      ]
     },
     "execution_count": 4,
     "metadata": {},
     "output_type": "execute_result"
    }
   ],
   "source": [
    "round (1-((1-a)**1000),3)"
   ]
  },
  {
   "cell_type": "markdown",
   "metadata": {},
   "source": [
    "## questões 7, 8, 9 e 10"
   ]
  },
  {
   "cell_type": "markdown",
   "metadata": {},
   "source": [
    "Seguindo a sugestão do Ypeels, primeiro vou tentar desenvolver a lógica solta. Depois voi tentar encapsular em funções."
   ]
  },
  {
   "cell_type": "code",
   "execution_count": 5,
   "metadata": {
    "collapsed": true
   },
   "outputs": [],
   "source": [
    "import matplotlib.pyplot as plt\n",
    "import numpy as np\n",
    "import random\n",
    "% matplotlib inline"
   ]
  },
  {
   "cell_type": "code",
   "execution_count": 6,
   "metadata": {},
   "outputs": [
    {
     "name": "stdout",
     "output_type": "stream",
     "text": [
      "[0.5469257689034246, -0.761370203025306]\n",
      "[0.23436196707890877, -0.8560664143332346]\n"
     ]
    },
    {
     "data": {
      "image/png": "[encoded data removed]",
      "text/plain": [
       "<matplotlib.figure.Figure at 0x114855ef0>"
      ]
     },
     "metadata": {},
     "output_type": "display_data"
    }
   ],
   "source": [
    "#gerando uma target function de forma aleatória\n",
    "pt1=[random.uniform(-1,1),random.uniform(-1,1)]\n",
    "pt2=[random.uniform(-1,1),random.uniform(-1,1)]\n",
    "\n",
    "a, b = np.polyfit(pt1, pt2, deg=1)\n",
    "\n",
    "x_reta = [-1, pt1[0], pt2[0], 1]\n",
    "y_reta = [(a*x + b) for x in x_reta]\n",
    "plt.plot(x_reta,y_reta,marker='o',color='b')\n",
    "\n",
    "plt.ylim(-1,1)\n",
    "plt.xlim(-1,1)\n",
    "\n",
    "print(pt1)\n",
    "print(pt2)"
   ]
  },
  {
   "cell_type": "code",
   "execution_count": 7,
   "metadata": {},
   "outputs": [],
   "source": [
    "#gerando o conjunto de input, para avaliar a classificação, de acordo com a target function acima:\n",
    "\n",
    "#vetor de pesos:\n",
    "w2=-1\n",
    "w1=(a)\n",
    "w0=(b)\n",
    "\n",
    "w=[w0,w1,w2]\n",
    "\n",
    "#geração do input (Xn) e output (Yn):\n",
    "x_acima=[]\n",
    "x_abaixo=[]\n",
    "\n",
    "y_acima=[]\n",
    "y_abaixo=[]\n",
    "\n",
    "y_abaixo_class=[]\n",
    "y_acima_class=[]\n",
    "\n",
    "for i in range(10):\n",
    "    x=random.uniform(-1,1)\n",
    "    y=random.uniform(-1,1)\n",
    "    if np.dot((1,x,y),w) < 0:\n",
    "        x_abaixo.append(x)\n",
    "        y_abaixo.append(y)\n",
    "        c = np.sign(np.dot((1,x,y),w))\n",
    "        y_abaixo_class.append(c)\n",
    "    else:\n",
    "        x_acima.append(x)\n",
    "        y_acima.append(y)\n",
    "        c = np.sign(np.dot((1,x,y),w))\n",
    "        y_acima_class.append(c)"
   ]
  },
  {
   "cell_type": "code",
   "execution_count": 8,
   "metadata": {},
   "outputs": [
    {
     "name": "stdout",
     "output_type": "stream",
     "text": [
      "[-0.2214854816132599, 0.83347224543128451, -1]\n"
     ]
    }
   ],
   "source": [
    "print(w)"
   ]
  },
  {
   "cell_type": "code",
   "execution_count": 9,
   "metadata": {
    "scrolled": true
   },
   "outputs": [
    {
     "data": {
      "text/plain": [
       "[(-0.19875311145780872, 0.8370912776156247, -1.0),\n",
       " (-0.15053401527198784, 0.062449112578022214, -1.0),\n",
       " (-0.9195392335396617, -0.0878757311469951, -1.0),\n",
       " (-0.6619536466021496, 0.2104173211033995, -1.0),\n",
       " (0.017586207911835627, -0.7406790811906812, 1.0),\n",
       " (0.8685295169918126, -0.6440182374630266, 1.0),\n",
       " (0.10160136939625408, -0.9961156360193268, 1.0),\n",
       " (0.3750142986209455, -0.29102707876672596, 1.0),\n",
       " (0.20013947119256592, -0.7454656284602919, 1.0),\n",
       " (0.5036734852501705, -0.49685486231442066, 1.0)]"
      ]
     },
     "execution_count": 9,
     "metadata": {},
     "output_type": "execute_result"
    }
   ],
   "source": [
    "abaixo = list(zip(x_abaixo,y_abaixo,y_abaixo_class))\n",
    "acima = list(zip(x_acima,y_acima,y_acima_class))\n",
    "tudo = (abaixo + acima)\n",
    "\n",
    "tudo"
   ]
  },
  {
   "cell_type": "code",
   "execution_count": 10,
   "metadata": {},
   "outputs": [
    {
     "data": {
      "text/plain": [
       "[<matplotlib.lines.Line2D at 0x114aa1e80>]"
      ]
     },
     "execution_count": 10,
     "metadata": {},
     "output_type": "execute_result"
    },
    {
     "data": {
      "image/png": "[encoded data removed]",
      "text/plain": [
       "<matplotlib.figure.Figure at 0x114831e48>"
      ]
     },
     "metadata": {},
     "output_type": "display_data"
    }
   ],
   "source": [
    "plt.ylim(-1,1)\n",
    "plt.xlim(-1,1)\n",
    "\n",
    "plt.plot(x_abaixo,y_abaixo,'bx')\n",
    "plt.plot(x_acima,y_acima,'ro')\n",
    "plt.plot(x_reta,y_reta,marker='o',color='b')"
   ]
  },
  {
   "cell_type": "code",
   "execution_count": 11,
   "metadata": {},
   "outputs": [
    {
     "data": {
      "text/plain": [
       "(-0.15053401527198784, 0.062449112578022214, -1.0)"
      ]
     },
     "execution_count": 11,
     "metadata": {},
     "output_type": "execute_result"
    }
   ],
   "source": [
    "from random import choice, shuffle\n",
    "choice(tudo)"
   ]
  },
  {
   "cell_type": "code",
   "execution_count": 12,
   "metadata": {
    "scrolled": true
   },
   "outputs": [
    {
     "name": "stdout",
     "output_type": "stream",
     "text": [
      "w: [-0.2214854816132599, 0.83347224543128451, -1]\n",
      "w1: [ 0.          0.21633932 -1.57777036]\n",
      "taxa de erro: 0.1\n"
     ]
    },
    {
     "data": {
      "image/png": "[encoded data removed]",
      "text/plain": [
       "<matplotlib.figure.Figure at 0x114831978>"
      ]
     },
     "metadata": {},
     "output_type": "display_data"
    },
    {
     "data": {
      "image/png": "[encoded data removed]",
      "text/plain": [
       "<matplotlib.figure.Figure at 0x114ae3470>"
      ]
     },
     "metadata": {},
     "output_type": "display_data"
    }
   ],
   "source": [
    "from random import choice, shuffle\n",
    "from pylab import plot, ylim\n",
    "\n",
    "w1 = [0.0,0.0,0.0]\n",
    "errors = []\n",
    "n = 10000  \n",
    "\n",
    "\n",
    "for i in range(len(tudo)-1):\n",
    "    x0, y0, expected = tudo[i]\n",
    "    result = np.dot((1,x0,y0),w1)\n",
    "    error = abs(expected - np.sign(result))\n",
    "    errors.append(error)\n",
    "    if error != 0:\n",
    "        w1 += expected * np.array([1,x0,y0])    \n",
    "\n",
    "#essa parte é para responder a questão 8:\n",
    "j=[]\n",
    "\n",
    "for i in range(1,len(tudo)):\n",
    "    q=np.sign(np.dot((1,tudo[i][0] ,tudo[i][1]),w1))\n",
    "    j.append(q)\n",
    "\n",
    "k=0    \n",
    "for a0, b0 in zip(j, (y_abaixo_class + y_acima_class)):\n",
    "    if (a0-b0) != 0:\n",
    "        k += 1\n",
    "\n",
    "        \n",
    "ylim([-2,2])\n",
    "print(\"w:\",w)\n",
    "print(\"w1:\",w1)\n",
    "print(\"taxa de erro:\", round((k/len(tudo)),5))\n",
    "\n",
    "plot(errors)\n",
    "plt.show()\n",
    "\n",
    "x_reta = [-1, pt1[0], pt2[0], 1]\n",
    "y_reta_2 = [(-w1[1]*x - w1[0]) for x in x_reta]\n",
    "\n",
    "\n",
    "plt.ylim([-1,1])\n",
    "plt.xlim([-1,1])\n",
    "plt.plot(x_abaixo,y_abaixo,'bx')\n",
    "plt.plot(x_acima,y_acima,'ro')\n",
    "plt.plot(x_reta,y_reta,color='b')\n",
    "plt.plot(x_reta,y_reta_2,color='g')\n",
    "plt.show()"
   ]
  },
  {
   "cell_type": "markdown",
   "metadata": {},
   "source": [
    "Repetindo várias vezes o código acima, vemos que a média de iterações necessárias para convergência está mais próxima do item B do que de qualquer outro item."
   ]
  },
  {
   "cell_type": "code",
   "execution_count": null,
   "metadata": {
    "collapsed": true
   },
   "outputs": [],
   "source": []
  },
  {
   "cell_type": "markdown",
   "metadata": {
    "collapsed": true
   },
   "source": [
    "Colocando as ideias em funções:"
   ]
  },
  {
   "cell_type": "code",
   "execution_count": 13,
   "metadata": {
    "collapsed": true
   },
   "outputs": [],
   "source": [
    "#função para definir, através do polyfit, a TARGET FUNCTION\n",
    "def targetFunction(x1,y1,x2,y2,x3,y3):\n",
    "    pt1=[x1,y1]\n",
    "    pt2=[x2,y2]\n",
    "    a, b = np.polyfit(pt1, pt2, deg=1)\n",
    "    x_reta = [-1, pt1[0], pt2[0], 1]\n",
    "    y_reta = [(a*x + b) for x in x_reta]\n",
    "\n",
    "    w2=-1\n",
    "    w1=(a)\n",
    "    w0=(b)\n",
    "    w=[w0,w1,w2]\n",
    "    \n",
    "    z=np.dot((1,x3,y3),w)\n",
    "    return np.sign(z)\n",
    "\n",
    "\n",
    "#função para gerar, aleatoriamente, os pontos:\n",
    "def gera_reta_pontos(N):\n",
    "    x1, y1, x2, y2 = random.uniform(-1, 1), random.uniform(-1, 1), random.uniform(-1, 1), random.uniform(-1, 1)\n",
    "    points = []\n",
    "\n",
    "    for i in range(N):\n",
    "        x, y = random.uniform (-1, 1), random.uniform (-1, 1)\n",
    "        points.append([1, x, y, targetFunction(x1, y1, x2, y2, x, y)])\n",
    "    return x1, y1, x2, y2, points"
   ]
  },
  {
   "cell_type": "code",
   "execution_count": 14,
   "metadata": {},
   "outputs": [],
   "source": [
    "#função para aplicar o método iterativo\n",
    "def percep(pontos, lim):\n",
    "    w = [0,0,0]\n",
    "    iteracao = 0\n",
    "       \n",
    "    def pesos_pla():\n",
    "        random.choice(pontos)\n",
    "        for point in pontos:\n",
    "            result = np.sign(point[0]*w[0] + point[1]*w[1] + point[2]*w[2])\n",
    "            if point[3] != result:\n",
    "                w[0] += point[0]*point[3]\n",
    "                w[1] += point[1]*point[3]\n",
    "                w[2] = -1\n",
    "                return 0\n",
    "        return 1\n",
    "\n",
    "    fim = 0\n",
    "    while fim is 0:\n",
    "        iteracao += 1\n",
    "        if iteracao == lim or pesos_pla():\n",
    "            fim = 1\n",
    "            \n",
    "    #print(pesos_pla())\n",
    "    return iteracao, w"
   ]
  },
  {
   "cell_type": "code",
   "execution_count": 15,
   "metadata": {
    "collapsed": true
   },
   "outputs": [],
   "source": [
    "#função para calcular a prob. de erro, usando a frequencia de vezes nas quais o dot product de uma g aleatória \n",
    "#não bate com o resultado da target function\n",
    "def prob_errar(x1,y1,x2,y2, pesos, tentativas):\n",
    "    erros = 0\n",
    "    for i in range(0, tentativas-1):\n",
    "        x = random.uniform(-1,1)\n",
    "        y = random.uniform(-1,1)\n",
    "\n",
    "        if targetFunction(x1,y1,x2,y2,x,y) != np.sign(np.dot([1,x,y], pesos)):\n",
    "            erros += 1\n",
    "    \n",
    "    return erros/float(tentativas)"
   ]
  },
  {
   "cell_type": "code",
   "execution_count": 16,
   "metadata": {
    "collapsed": true
   },
   "outputs": [],
   "source": [
    "#aplicação do modelo\n",
    "\n",
    "def modelo(runs, qtd_pontos, iter_lim):\n",
    "    iteracoes = []\n",
    "    prob_erro = []\n",
    "    for t in range(1,runs+1):\n",
    "        x1, y1, x2, y2, points = gera_reta_pontos(qtd_pontos)\n",
    "        iter_count, w = percep(points, iter_lim)\n",
    "        error_probability = prob_errar(x1,y1,x2,y2,w, 10000)\n",
    "        iteracoes.append(iter_count)\n",
    "        prob_erro.append(error_probability)\n",
    "\n",
    "    print(\"media de iteracao: \" + str(np.mean(iteracoes)))\n",
    "    print(\"media prob erro: \" + str(np.mean(prob_erro)))"
   ]
  },
  {
   "cell_type": "code",
   "execution_count": 18,
   "metadata": {},
   "outputs": [
    {
     "name": "stdout",
     "output_type": "stream",
     "text": [
      "media de iteracao: 203.3\n",
      "media prob erro: 0.11452\n"
     ]
    }
   ],
   "source": [
    "modelo(10,10,1000)"
   ]
  },
  {
   "cell_type": "code",
   "execution_count": null,
   "metadata": {
    "collapsed": true
   },
   "outputs": [],
   "source": []
  }
 ],
 "metadata": {
  "anaconda-cloud": {},
  "kernelspec": {
   "display_name": "Python 3",
   "language": "python",
   "name": "python3"
  },
  "language_info": {
   "codemirror_mode": {
    "name": "ipython",
    "version": 3
   },
   "file_extension": ".py",
   "mimetype": "text/x-python",
   "name": "python",
   "nbconvert_exporter": "python",
   "pygments_lexer": "ipython3",
   "version": "3.6.2"
  }
 },
 "nbformat": 4,
 "nbformat_minor": 1
}
